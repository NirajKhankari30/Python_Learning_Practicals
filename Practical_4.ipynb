{
 "cells": [
  {
   "cell_type": "markdown",
   "id": "0fe2b3bb-c696-46ec-920d-56fbc3f2909a",
   "metadata": {},
   "source": [
    "# Practical No. : 04\n",
    "# Niraj Khankari _ Roll no.: 26"
   ]
  },
  {
   "cell_type": "markdown",
   "id": "8ac0890e-5cd8-4f73-b5fe-545e0aa606b0",
   "metadata": {},
   "source": [
    "### Q.1) Write a Python program that concatenates two strings, appends one string to another,and multiplies a string by an integer."
   ]
  },
  {
   "cell_type": "code",
   "execution_count": 3,
   "id": "835a29aa-2179-46b4-a9a7-018ab7e7d7af",
   "metadata": {},
   "outputs": [
    {
     "name": "stdout",
     "output_type": "stream",
     "text": [
      "Concatenated String: HelloWorld\n",
      "Appended String: HelloWorld\n",
      "Multiplied String: HelloHelloHello\n"
     ]
    }
   ],
   "source": [
    "def string_operations(str1, str2, multiplier):\n",
    "    # Concatenating two strings\n",
    "    concatenated = str1 + str2\n",
    "    print(f\"Concatenated String: {concatenated}\")\n",
    "\n",
    "    # Appending str2 to str1\n",
    "    appended = str1\n",
    "    appended += str2\n",
    "    print(f\"Appended String: {appended}\")\n",
    "\n",
    "    # Multiplying str1 by an integer\n",
    "    multiplied = str1 * multiplier\n",
    "    print(f\"Multiplied String: {multiplied}\")\n",
    "\n",
    "# Example usage\n",
    "string1 = \"Hello\"\n",
    "string2 = \"World\"\n",
    "multiplier = 3\n",
    "\n",
    "string_operations(string1, string2, multiplier)\n"
   ]
  },
  {
   "cell_type": "markdown",
   "id": "f4a6be66-f914-4e21-acc4-861518a6263d",
   "metadata": {},
   "source": [
    "### Q.2) Write a Python program that demonstrates slicing on a string. Extract and print asubstring from the given string: \"Hello, World!\"."
   ]
  },
  {
   "cell_type": "code",
   "execution_count": 10,
   "id": "f012868a-e42f-4806-8328-76e07353d65f",
   "metadata": {},
   "outputs": [
    {
     "name": "stdout",
     "output_type": "stream",
     "text": [
      "Original String: Hello, World!\n",
      "Extracted Substring 1: 'Hello'\n",
      "Extracted Substring 2: 'World'\n",
      "Extracted Substring 3: 'Hello, World!'\n",
      "Extracted Substring 4: 'World!'\n"
     ]
    }
   ],
   "source": [
    "def demonstrate_string_slicing(string):\n",
    "    # Original string\n",
    "    print(f\"Original String: {string}\")\n",
    "    \n",
    "    # Slicing to extract \"Hello\"\n",
    "    substring1 = string[0:5]  # Slicing from index 0 to 4\n",
    "    print(f\"Extracted Substring 1: '{substring1}'\")\n",
    "    \n",
    "    # Slicing to extract \"World\"\n",
    "    substring2 = string[7:12]  # Slicing from index 7 to 11\n",
    "    print(f\"Extracted Substring 2: '{substring2}'\")\n",
    "    \n",
    "    # Slicing to extract \"Hello, World!\"\n",
    "    substring3 = string[:]      # Slicing the entire string\n",
    "    print(f\"Extracted Substring 3: '{substring3}'\")\n",
    "\n",
    "    # Slicing to extract \"World!\" using negative indexing\n",
    "    substring4 = string[-6:]    # Slicing from index -6 to end\n",
    "    print(f\"Extracted Substring 4: '{substring4}'\")\n",
    "\n",
    "# Example usage\n",
    "input_string = \"Hello, World!\"\n",
    "demonstrate_string_slicing(input_string)\n"
   ]
  },
  {
   "cell_type": "markdown",
   "id": "4036ecec-d565-42e8-a6f6-240439e7ae14",
   "metadata": {},
   "source": [
    "### Q.3)Write a Python program that attempts to change a character in a string and explainwhy it results in an error. Show how to create a new string with the desired change."
   ]
  },
  {
   "cell_type": "code",
   "execution_count": 13,
   "id": "f3967191-6256-47ab-9bb4-8e68bfb56c9f",
   "metadata": {},
   "outputs": [
    {
     "name": "stdout",
     "output_type": "stream",
     "text": [
      "Error: 'str' object does not support item assignment\n",
      "Original String: Hello, World!\n",
      "Modified String: hello, World!\n"
     ]
    }
   ],
   "source": [
    "def modify_string(original_string):\n",
    "    try:\n",
    "        # Attempting to change the first character of the string\n",
    "        original_string[0] = 'h'  # This will raise an error\n",
    "    except TypeError as e:\n",
    "        print(f\"Error: {e}\")\n",
    "\n",
    "    # Creating a new string with the desired change\n",
    "    new_string = 'h' + original_string[1:]  # Change 'H' to 'h'\n",
    "    print(f\"Original String: {original_string}\")\n",
    "    print(f\"Modified String: {new_string}\")\n",
    "\n",
    "# Example usage\n",
    "input_string = \"Hello, World!\"\n",
    "modify_string(input_string)\n"
   ]
  },
  {
   "cell_type": "markdown",
   "id": "ef4c5855-f892-41ea-bbb5-ce87e9c493ba",
   "metadata": {},
   "source": [
    "### Q.4)Write a Python program that uses the string formatting operator (%) to format and print a string with a name and age."
   ]
  },
  {
   "cell_type": "code",
   "execution_count": 21,
   "id": "9b5f7acc-1580-4678-8cd9-68efe40bf1f6",
   "metadata": {},
   "outputs": [
    {
     "name": "stdout",
     "output_type": "stream",
     "text": [
      "My name is Raman and I am 20 years old.\n"
     ]
    }
   ],
   "source": [
    "def format_string(name, age):\n",
    "    # Using the % operator for string formatting\n",
    "    formatted_string = \"My name is %s and I am %d years old.\" % (name, age)\n",
    "    print(formatted_string)\n",
    "\n",
    "# Example usage\n",
    "user_name = \"Raman\"\n",
    "user_age = 20\n",
    "format_string(user_name, user_age)\n"
   ]
  },
  {
   "cell_type": "markdown",
   "id": "d3779a85-86a2-49b1-9473-c53e883bcf31",
   "metadata": {},
   "source": [
    "### Q.5)Write a Python program that demonstrates the use of at least five built-in string methods such as lower(), upper(), strip(), replace(), and split()."
   ]
  },
  {
   "cell_type": "code",
   "execution_count": 24,
   "id": "f24472e9-a7d1-4239-a4a3-8a479388a0f0",
   "metadata": {},
   "outputs": [
    {
     "name": "stdout",
     "output_type": "stream",
     "text": [
      "Original String: '   Hello, World!   '\n",
      "Lowercase: '   hello, world!   '\n",
      "Uppercase: '   HELLO, WORLD!   '\n",
      "Stripped String: 'Hello, World!'\n",
      "Replaced String: '   Hi, World!   '\n",
      "Split String: ['', '', '', 'Hello,', 'World!', '', '', '']\n"
     ]
    }
   ],
   "source": [
    "def demonstrate_string_methods(input_string):\n",
    "    print(f\"Original String: '{input_string}'\")\n",
    "    \n",
    "    # Using lower() to convert the string to lowercase\n",
    "    lower_case = input_string.lower()\n",
    "    print(f\"Lowercase: '{lower_case}'\")\n",
    "    \n",
    "    # Using upper() to convert the string to uppercase\n",
    "    upper_case = input_string.upper()\n",
    "    print(f\"Uppercase: '{upper_case}'\")\n",
    "    \n",
    "    # Using strip() to remove any leading or trailing whitespace\n",
    "    stripped_string = input_string.strip()\n",
    "    print(f\"Stripped String: '{stripped_string}'\")\n",
    "    \n",
    "    # Using replace() to replace a substring with another substring\n",
    "    replaced_string = input_string.replace(\"Hello\", \"Hi\")\n",
    "    print(f\"Replaced String: '{replaced_string}'\")\n",
    "    \n",
    "    # Using split() to split the string into a list of words\n",
    "    split_string = input_string.split(\" \")\n",
    "    print(f\"Split String: {split_string}\")\n",
    "\n",
    "# Example usage\n",
    "input_string = \"   Hello, World!   \"\n",
    "demonstrate_string_methods(input_string)\n"
   ]
  },
  {
   "cell_type": "markdown",
   "id": "b893deb7-ba3a-4e47-af63-9eb445e4d0b0",
   "metadata": {},
   "source": [
    "### Q.6) Write a Python program that uses slice operation to reverse a string."
   ]
  },
  {
   "cell_type": "code",
   "execution_count": 27,
   "id": "2755f918-cbb4-4ca2-9cd9-fa33c63bae6b",
   "metadata": {},
   "outputs": [
    {
     "name": "stdout",
     "output_type": "stream",
     "text": [
      "Original String: 'Hello, World!'\n",
      "Reversed String: '!dlroW ,olleH'\n"
     ]
    }
   ],
   "source": [
    "def reverse_string(input_string):\n",
    "    # Using slicing to reverse the string\n",
    "    reversed_string = input_string[::-1]\n",
    "    return reversed_string\n",
    "\n",
    "# Example usage\n",
    "input_string = \"Hello, World!\"\n",
    "reversed_result = reverse_string(input_string)\n",
    "print(f\"Original String: '{input_string}'\")\n",
    "print(f\"Reversed String: '{reversed_result}'\")\n"
   ]
  },
  {
   "cell_type": "markdown",
   "id": "d8623da0-c24b-4eac-8316-1eb34d3d3e9b",
   "metadata": {},
   "source": [
    "### Q.7) Write a Python program that takes a character as input and prints its ASCII value using ord(). Then take an ASCII value as input and print the corresponding character using chr()."
   ]
  },
  {
   "cell_type": "code",
   "execution_count": 33,
   "id": "ee276ce1-0d9c-46ad-82ef-bf21613691ef",
   "metadata": {},
   "outputs": [
    {
     "name": "stdin",
     "output_type": "stream",
     "text": [
      "Enter a character:  A\n"
     ]
    },
    {
     "name": "stdout",
     "output_type": "stream",
     "text": [
      "The ASCII value of 'A' is: 65\n"
     ]
    },
    {
     "name": "stdin",
     "output_type": "stream",
     "text": [
      "Enter an ASCII value:  65\n"
     ]
    },
    {
     "name": "stdout",
     "output_type": "stream",
     "text": [
      "The character corresponding to ASCII value 65 is: 'A'\n"
     ]
    }
   ],
   "source": [
    "def ascii_conversion():\n",
    "    # Taking a character as input and printing its ASCII value\n",
    "    char_input = input(\"Enter a character: \")\n",
    "    \n",
    "    if len(char_input) == 1:  # Ensure it's a single character\n",
    "        ascii_value = ord(char_input)\n",
    "        print(f\"The ASCII value of '{char_input}' is: {ascii_value}\")\n",
    "    else:\n",
    "        print(\"Please enter only one character.\")\n",
    "\n",
    "    # Taking an ASCII value as input and printing the corresponding character\n",
    "    try:\n",
    "        ascii_input = int(input(\"Enter an ASCII value: \"))\n",
    "        character = chr(ascii_input)\n",
    "        print(f\"The character corresponding to ASCII value {ascii_input} is: '{character}'\")\n",
    "    except ValueError:\n",
    "        print(\"Please enter a valid integer for ASCII value.\")\n",
    "    except OverflowError:\n",
    "        print(\"The ASCII value is out of range.\")\n",
    "\n",
    "# Example usage\n",
    "ascii_conversion()\n",
    "\n"
   ]
  },
  {
   "cell_type": "markdown",
   "id": "22668ce7-bb46-43e2-a31f-6e1c381b0e6a",
   "metadata": {},
   "source": [
    "### Q.8)Write a Python program that checks if a substring is present in a given string using the in operator and checks if a substring is not present using the not in operator."
   ]
  },
  {
   "cell_type": "code",
   "execution_count": 35,
   "id": "9e67db8c-91a4-4091-bde2-868576164764",
   "metadata": {},
   "outputs": [
    {
     "name": "stdout",
     "output_type": "stream",
     "text": [
      "'World' is present in 'Hello, World!'.\n",
      "'World' is present in 'Hello, World!', so this statement is false.\n",
      "'Python' is not present in 'Hello, World!'.\n",
      "'Python' is definitely not present in 'Hello, World!'.\n"
     ]
    }
   ],
   "source": [
    "def check_substring(main_string, substring):\n",
    "    # Check if the substring is present\n",
    "    if substring in main_string:\n",
    "        print(f\"'{substring}' is present in '{main_string}'.\")\n",
    "    else:\n",
    "        print(f\"'{substring}' is not present in '{main_string}'.\")\n",
    "\n",
    "    # Check if the substring is not present\n",
    "    if substring not in main_string:\n",
    "        print(f\"'{substring}' is definitely not present in '{main_string}'.\")\n",
    "    else:\n",
    "        print(f\"'{substring}' is present in '{main_string}', so this statement is false.\")\n",
    "\n",
    "# Example usage\n",
    "main_string = \"Hello, World!\"\n",
    "substring1 = \"World\"\n",
    "substring2 = \"Python\"\n",
    "\n",
    "check_substring(main_string, substring1)\n",
    "check_substring(main_string, substring2)\n"
   ]
  },
  {
   "cell_type": "markdown",
   "id": "42114549-f863-415b-939f-fb66a50f8ae7",
   "metadata": {},
   "source": [
    "### Q.9) Write a Python program that compares two strings and prints whether they are equal,or if one is greater than the other."
   ]
  },
  {
   "cell_type": "code",
   "execution_count": 44,
   "id": "34d9b4eb-54dc-4297-aef5-10a7cf1fe9b5",
   "metadata": {},
   "outputs": [
    {
     "name": "stdin",
     "output_type": "stream",
     "text": [
      "Enter the first string:  Awishkar\n",
      "Enter the second string:  Gawali\n"
     ]
    },
    {
     "name": "stdout",
     "output_type": "stream",
     "text": [
      "'Awishkar' is less than 'Gawali'.\n"
     ]
    }
   ],
   "source": [
    "def compare_strings(string1, string2):\n",
    "    # Comparing the two strings\n",
    "    if string1 == string2:\n",
    "        print(f\"The strings are equal: '{string1}' and '{string2}'.\")\n",
    "    elif string1 > string2:\n",
    "        print(f\"'{string1}' is greater than '{string2}'.\")\n",
    "    else:\n",
    "        print(f\"'{string1}' is less than '{string2}'.\")\n",
    "\n",
    "# Example usage\n",
    "string_a = input(\"Enter the first string: \")\n",
    "string_b = input(\"Enter the second string: \")\n",
    "\n",
    "compare_strings(string_a, string_b)\n"
   ]
  },
  {
   "cell_type": "markdown",
   "id": "6e069483-e3a2-4ade-8612-ec33ff0e4de8",
   "metadata": {},
   "source": [
    "### Q.10) Write a Python program that iterates over each character in a string and prints it in separate line."
   ]
  },
  {
   "cell_type": "code",
   "execution_count": 47,
   "id": "73693148-8db7-47c6-a28e-f4c1783d3d27",
   "metadata": {},
   "outputs": [
    {
     "name": "stdout",
     "output_type": "stream",
     "text": [
      "H\n",
      "e\n",
      "l\n",
      "l\n",
      "o\n",
      ",\n",
      " \n",
      "W\n",
      "o\n",
      "r\n",
      "l\n",
      "d\n",
      "!\n"
     ]
    }
   ],
   "source": [
    "def print_characters(input_string):\n",
    "    # Iterating over each character in the string\n",
    "    for char in input_string:\n",
    "        print(char)\n",
    "\n",
    "# Example usage\n",
    "input_string = \"Hello, World!\"\n",
    "print_characters(input_string)\n"
   ]
  },
  {
   "cell_type": "markdown",
   "id": "efc8e406-5305-43f4-a7de-84845bbf59e2",
   "metadata": {},
   "source": [
    "### Q.11)Write a Python program that uses the string module to print all the ASCII letters and digits."
   ]
  },
  {
   "cell_type": "code",
   "execution_count": 56,
   "id": "1ec3fc06-1cc1-42c9-a726-1d1bf500a667",
   "metadata": {},
   "outputs": [
    {
     "name": "stdout",
     "output_type": "stream",
     "text": [
      "ASCII Letters: abcdefghijklmnopqrstuvwxyzABCDEFGHIJKLMNOPQRSTUVWXYZ \n",
      "ASCII Digits: 0123456789 \n"
     ]
    }
   ],
   "source": [
    "import string\n",
    "\n",
    "def print_ascii_letters_and_digits():\n",
    "    # Print all ASCII letters\n",
    "    ascii_letters = string.ascii_letters\n",
    "    print(f\"ASCII Letters: { ascii_letters } \")\n",
    "    \n",
    "    # Print all ASCII digits\n",
    "    ascii_digits = string.digits\n",
    "    print(f\"ASCII Digits: { ascii_digits } \")\n",
    "\n",
    "# Example usage\n",
    "print_ascii_letters_and_digits()\n"
   ]
  },
  {
   "cell_type": "markdown",
   "id": "d19c4c9a-030f-4103-8f53-025257987569",
   "metadata": {},
   "source": [
    "### Q.12)Write a Python program that creates a dictionary with three key-value pairs. Access and print the value of a specific key."
   ]
  },
  {
   "cell_type": "code",
   "execution_count": 60,
   "id": "c1eb2942-a86b-416d-91f1-4e2fef6c4675",
   "metadata": {},
   "outputs": [
    {
     "name": "stdout",
     "output_type": "stream",
     "text": [
      "The value of 'age' is: 30\n"
     ]
    }
   ],
   "source": [
    "def create_and_access_dictionary():\n",
    "    # Create a dictionary with three key-value pairs\n",
    "    my_dict = {\n",
    "        'name': 'Atish',\n",
    "        'age': 30,\n",
    "        'city': 'New Delhi'\n",
    "    }\n",
    "    \n",
    "    # Access and print the value of a specific key\n",
    "    specific_key = 'age'\n",
    "    print(f\"The value of '{specific_key}' is: {my_dict[specific_key]}\")\n",
    "\n",
    "# Example usage\n",
    "create_and_access_dictionary()\n"
   ]
  },
  {
   "cell_type": "markdown",
   "id": "ac5d2025-ffc6-4eff-92b0-86c1df8cad33",
   "metadata": {},
   "source": [
    "### Q.13)Write a Python program that adds a new key-value pair to the dictionary created in the previous task. Update an existing value and print the updated dictionary."
   ]
  },
  {
   "cell_type": "code",
   "execution_count": 62,
   "id": "1d648ed5-3347-4b1d-8576-9a08e407b226",
   "metadata": {},
   "outputs": [
    {
     "name": "stdout",
     "output_type": "stream",
     "text": [
      "Updated Dictionary: {'name': 'Amir', 'age': 21, 'city': 'New Nashik', 'occupation': 'Engineer'}\n"
     ]
    }
   ],
   "source": [
    "def update_dictionary():\n",
    "    # Create a dictionary with three key-value pairs\n",
    "    my_dict = {\n",
    "        'name': 'Amir',\n",
    "        'age': 20,\n",
    "        'city': 'New Nashik'\n",
    "    }\n",
    "    \n",
    "    # Add a new key-value pair\n",
    "    my_dict['occupation'] = 'Engineer'\n",
    "    \n",
    "    # Update an existing value\n",
    "    my_dict['age'] = 21\n",
    "    \n",
    "    # Print the updated dictionary\n",
    "    print(\"Updated Dictionary:\", my_dict)\n",
    "\n",
    "# Example usage\n",
    "update_dictionary()\n"
   ]
  },
  {
   "cell_type": "markdown",
   "id": "cb8a328e-0556-42f8-b06f-e6b1980858c7",
   "metadata": {},
   "source": [
    "### Q.14)Write a Python program that removes a key-value pair from a dictionary using the del statement. Print the dictionary before and after removing the key-value pair."
   ]
  },
  {
   "cell_type": "code",
   "execution_count": 77,
   "id": "759ec2f5-75de-4153-94b8-aaa7c340650c",
   "metadata": {},
   "outputs": [
    {
     "name": "stdout",
     "output_type": "stream",
     "text": [
      "Original Dictionary: {'name': 'Harish', 'age': 26, 'city': 'Jaipur'}\n",
      "Dictionary after removing 'age': {'name': 'Harish', 'city': 'Jaipur'}\n"
     ]
    }
   ],
   "source": [
    "def remove_key_with_del():\n",
    "    my_dict = {'name': 'Harish', 'age': 26, 'city': 'Jaipur'}\n",
    "    print(\"Original Dictionary:\", my_dict)\n",
    "    \n",
    "    # Remove the 'age' key-value pair\n",
    "    del my_dict['age']\n",
    "    \n",
    "    print(\"Dictionary after removing 'age':\", my_dict)\n",
    "\n",
    "# Example usage\n",
    "remove_key_with_del()\n"
   ]
  },
  {
   "cell_type": "markdown",
   "id": "df5be9bd-a60c-465b-b6c5-4d77401f144b",
   "metadata": {},
   "source": [
    "### Q.15) Write a Python program that removes a key-value pair from a dictionary using the pop() method and prints the removed value and the updated dictionary."
   ]
  },
  {
   "cell_type": "code",
   "execution_count": 79,
   "id": "a20f77b1-5a9a-4801-9924-2c70d71290ca",
   "metadata": {},
   "outputs": [
    {
     "name": "stdout",
     "output_type": "stream",
     "text": [
      "Removed value: 10\n",
      "Updated Dictionary: {'name': 'Rushi', 'city': 'Jalmer'}\n"
     ]
    }
   ],
   "source": [
    "def remove_key_with_pop():\n",
    "    my_dict = {'name': 'Rushi', 'age': 10, 'city': 'Jalmer'}\n",
    "    \n",
    "    # Remove the 'age' key-value pair and store the removed value\n",
    "    removed_value = my_dict.pop('age')\n",
    "    \n",
    "    print(\"Removed value:\", removed_value)\n",
    "    print(\"Updated Dictionary:\", my_dict)\n",
    "\n",
    "# Example usage\n",
    "remove_key_with_pop()\n"
   ]
  },
  {
   "cell_type": "markdown",
   "id": "e74cd9f4-57e2-4ae8-8de2-efcc19abc2e4",
   "metadata": {},
   "source": [
    "### Q.16)Write a Python program that iterates over a dictionary and prints each key and its corresponding value."
   ]
  },
  {
   "cell_type": "code",
   "execution_count": 81,
   "id": "b449f337-80d5-411c-a3c2-a57aeda5b80f",
   "metadata": {},
   "outputs": [
    {
     "name": "stdout",
     "output_type": "stream",
     "text": [
      "name: Ramji\n",
      "age: 50\n",
      "city: Mumbai\n"
     ]
    }
   ],
   "source": [
    "def iterate_dictionary():\n",
    "    my_dict = {'name': 'Ramji', 'age': 50, 'city': 'Mumbai'}\n",
    "    \n",
    "    for key, value in my_dict.items():\n",
    "        print(f\"{key}: {value}\")\n",
    "\n",
    "# Example usage\n",
    "iterate_dictionary()\n"
   ]
  },
  {
   "cell_type": "markdown",
   "id": "daabe7bc-0c82-429d-a85f-608bbddf6ff3",
   "metadata": {},
   "source": [
    "### Q.17)Write a Python program that uses dictionary comprehension to create a dictionary with keys as numbers from 1 to 5 and values as their squares."
   ]
  },
  {
   "cell_type": "code",
   "execution_count": 83,
   "id": "ff26b94a-ba0d-43dc-b8a8-664e560e379f",
   "metadata": {},
   "outputs": [
    {
     "name": "stdout",
     "output_type": "stream",
     "text": [
      "Dictionary of squares: {1: 1, 2: 4, 3: 9, 4: 16, 5: 25}\n"
     ]
    }
   ],
   "source": [
    "def create_square_dictionary():\n",
    "    square_dict = {i: i ** 2 for i in range(1, 6)}\n",
    "    print(\"Dictionary of squares:\", square_dict)\n",
    "\n",
    "# Example usage\n",
    "create_square_dictionary()\n"
   ]
  },
  {
   "cell_type": "markdown",
   "id": "32563bc7-239b-43f3-9398-0553592bc200",
   "metadata": {},
   "source": [
    "### Q.18)Write a Python program that merges two dictionaries into one and prints the resulting dictionary. Use the update() method and the unpacking operator (**)."
   ]
  },
  {
   "cell_type": "code",
   "execution_count": 85,
   "id": "6b2afc47-464c-4ab1-9cdd-b88ddd91fd13",
   "metadata": {},
   "outputs": [
    {
     "name": "stdout",
     "output_type": "stream",
     "text": [
      "Merged Dictionary using update(): {'a': 1, 'b': 3, 'c': 4}\n",
      "Merged Dictionary using unpacking: {'a': 1, 'b': 3, 'c': 4}\n"
     ]
    }
   ],
   "source": [
    "def merge_dictionaries():\n",
    "    dict1 = {'a': 1, 'b': 2}\n",
    "    dict2 = {'b': 3, 'c': 4}\n",
    "\n",
    "    # Using the update() method\n",
    "    dict1.update(dict2)\n",
    "    print(\"Merged Dictionary using update():\", dict1)\n",
    "\n",
    "    # Using the unpacking operator\n",
    "    merged_dict = {**dict1, **dict2}\n",
    "    print(\"Merged Dictionary using unpacking:\", merged_dict)\n",
    "\n",
    "# Example usage\n",
    "merge_dictionaries()\n"
   ]
  },
  {
   "cell_type": "markdown",
   "id": "2abb861e-15c3-48ed-9458-a17ce5e6ea7e",
   "metadata": {},
   "source": [
    "### Q.19)Write a Python program that checks if a specific key is present in a dictionary and prints an appropriate message."
   ]
  },
  {
   "cell_type": "code",
   "execution_count": 89,
   "id": "d6fe72d4-7362-48be-8351-a71d8d359dbf",
   "metadata": {},
   "outputs": [
    {
     "name": "stdout",
     "output_type": "stream",
     "text": [
      "The key 'age' is present in the dictionary.\n"
     ]
    }
   ],
   "source": [
    "def check_key_in_dictionary():\n",
    "    my_dict = {'name': 'Ganu', 'age': 27, 'city': 'Pune'}\n",
    "    key_to_check = 'age'\n",
    "\n",
    "    if key_to_check in my_dict:\n",
    "        print(f\"The key '{key_to_check}' is present in the dictionary.\")\n",
    "    else:\n",
    "        print(f\"The key '{key_to_check}' is not present in the dictionary.\")\n",
    "\n",
    "# Example usage\n",
    "check_key_in_dictionary()\n"
   ]
  },
  {
   "cell_type": "markdown",
   "id": "37c507db-7308-4caf-9327-f91ede2259a6",
   "metadata": {},
   "source": [
    "### Q.20)Write a Python program that prints all the keys and all the values of a dictionary using the keys() and values() methods."
   ]
  },
  {
   "cell_type": "code",
   "execution_count": 91,
   "id": "e7a1b5f4-4516-44ab-92ae-54e1098d60de",
   "metadata": {},
   "outputs": [
    {
     "name": "stdout",
     "output_type": "stream",
     "text": [
      "Keys: dict_keys(['name', 'age', 'city'])\n",
      "Values: dict_values(['Ganesh', 29, 'New Upanagar'])\n"
     ]
    }
   ],
   "source": [
    "def print_keys_and_values():\n",
    "    my_dict = {'name': 'Ganesh', 'age': 29, 'city': 'New Upanagar'}\n",
    "    \n",
    "    print(\"Keys:\", my_dict.keys())\n",
    "    print(\"Values:\", my_dict.values())\n",
    "\n",
    "# Example usage\n",
    "print_keys_and_values()\n"
   ]
  },
  {
   "cell_type": "markdown",
   "id": "65d2e8ce-eff2-486a-a844-36ec38cd45da",
   "metadata": {},
   "source": [
    "### Q.21)Write a Python program that uses the setdefault() method to get the value of a key if it is present, or insert the key with a specified value if it is not present. Print the dictionary before and after using setdefault()."
   ]
  },
  {
   "cell_type": "code",
   "execution_count": 93,
   "id": "a45b2289-0ce1-4c58-9289-27d774999a7b",
   "metadata": {},
   "outputs": [
    {
     "name": "stdout",
     "output_type": "stream",
     "text": [
      "Original Dictionary: {'name': 'Rakesh', 'age': 30}\n",
      "Dictionary after setdefault: {'name': 'Rakesh', 'age': 30, 'city': 'Unknown'}\n"
     ]
    }
   ],
   "source": [
    "def use_setdefault():\n",
    "    my_dict = {'name': 'Rakesh', 'age': 30}\n",
    "    print(\"Original Dictionary:\", my_dict)\n",
    "\n",
    "    # Get value of 'city' or set it to 'Unknown'\n",
    "    my_dict.setdefault('city', 'Unknown')\n",
    "    \n",
    "    print(\"Dictionary after setdefault:\", my_dict)\n",
    "\n",
    "# Example usage\n",
    "use_setdefault()\n"
   ]
  },
  {
   "cell_type": "markdown",
   "id": "fae04f65-c3e9-4139-8259-0fbe3e995172",
   "metadata": {},
   "source": [
    "### Q.22)Write a Python program that creates a nested dictionary representing a collection of students with their names and corresponding marks in different subjects. Print the nested dictionary."
   ]
  },
  {
   "cell_type": "code",
   "execution_count": 97,
   "id": "b89b9cfe-8f7b-4bca-b22d-e00102e35ccc",
   "metadata": {},
   "outputs": [
    {
     "name": "stdout",
     "output_type": "stream",
     "text": [
      "Nested Dictionary of Students: {'Saurabh': {'Math': 85, 'Science': 90}, 'Siddhesh': {'Math': 75, 'Science': 80}, 'Siddhart': {'Math': 95, 'Science': 92}}\n"
     ]
    }
   ],
   "source": [
    "def create_nested_dictionary():\n",
    "    students = {\n",
    "        'Saurabh': {'Math': 85, 'Science': 90},\n",
    "        'Siddhesh': {'Math': 75, 'Science': 80},\n",
    "        'Siddhart': {'Math': 95, 'Science': 92}\n",
    "    }\n",
    "    print(\"Nested Dictionary of Students:\", students)\n",
    "\n",
    "# Example usage\n",
    "create_nested_dictionary()\n"
   ]
  },
  {
   "cell_type": "markdown",
   "id": "1d9df1ac-d364-45a9-9201-97e568432470",
   "metadata": {},
   "source": [
    "### Q.23)Write a Python program that sorts a dictionary by its keys and prints the sorted dictionary."
   ]
  },
  {
   "cell_type": "code",
   "execution_count": 99,
   "id": "dcffc6c2-d981-4291-b8b9-e4467a1f3508",
   "metadata": {},
   "outputs": [
    {
     "name": "stdout",
     "output_type": "stream",
     "text": [
      "Sorted Dictionary by Keys: {'age': 40, 'city': 'New York', 'name': 'Paresh'}\n"
     ]
    }
   ],
   "source": [
    "def sort_dictionary_by_keys():\n",
    "    my_dict = {'name': 'Paresh', 'age': 40, 'city': 'New York'}\n",
    "    sorted_dict = dict(sorted(my_dict.items()))\n",
    "    print(\"Sorted Dictionary by Keys:\", sorted_dict)\n",
    "\n",
    "# Example usage\n",
    "sort_dictionary_by_keys()\n"
   ]
  },
  {
   "cell_type": "markdown",
   "id": "a7f40758-8d26-4550-a61c-0a98db00e0b1",
   "metadata": {},
   "source": [
    "### Q.24)Write a Python program that uses the defaultdict from the collections module to create a dictionary with default values. Demonstrate adding and accessing elements."
   ]
  },
  {
   "cell_type": "code",
   "execution_count": 101,
   "id": "02ef19ee-4353-48fa-a7c1-9b9447c23f50",
   "metadata": {},
   "outputs": [
    {
     "name": "stdout",
     "output_type": "stream",
     "text": [
      "Defaultdict contents: {'a': 1, 'b': 2}\n",
      "Accessing non-existing key 'c': 0\n"
     ]
    }
   ],
   "source": [
    "from collections import defaultdict\n",
    "\n",
    "def use_defaultdict():\n",
    "    my_dict = defaultdict(int)  # Default value of int is 0\n",
    "\n",
    "    # Adding elements\n",
    "    my_dict['a'] += 1\n",
    "    my_dict['b'] += 2\n",
    "\n",
    "    # Accessing elements\n",
    "    print(\"Defaultdict contents:\", dict(my_dict))\n",
    "    print(\"Accessing non-existing key 'c':\", my_dict['c'])  # Outputs 0\n",
    "\n",
    "# Example usage\n",
    "use_defaultdict()\n"
   ]
  }
 ],
 "metadata": {
  "kernelspec": {
   "display_name": "Python 3 (ipykernel)",
   "language": "python",
   "name": "python3"
  },
  "language_info": {
   "codemirror_mode": {
    "name": "ipython",
    "version": 3
   },
   "file_extension": ".py",
   "mimetype": "text/x-python",
   "name": "python",
   "nbconvert_exporter": "python",
   "pygments_lexer": "ipython3",
   "version": "3.12.4"
  }
 },
 "nbformat": 4,
 "nbformat_minor": 5
}
