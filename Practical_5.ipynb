{
 "cells": [
  {
   "cell_type": "markdown",
   "id": "6c1831a9-57ce-4f26-b4fd-c225028ef223",
   "metadata": {},
   "source": [
    "# Python Practical No.: 05\n",
    "\n",
    "# Niraj Khankari _ Roll no.: 26"
   ]
  },
  {
   "cell_type": "markdown",
   "id": "d1ef1ab3-c4f9-4527-9a8f-23ca38d4d5b4",
   "metadata": {},
   "source": [
    "### Q.1)  Define a class Book with attributes title, author, and pages. Create an object of thisclass and print its attributes."
   ]
  },
  {
   "cell_type": "code",
   "execution_count": 7,
   "id": "dfceaa3a-4475-4570-bce5-69cfda6e7f1f",
   "metadata": {},
   "outputs": [
    {
     "name": "stdout",
     "output_type": "stream",
     "text": [
      "Title: To Kill a Mockingbird, Author: Harper Lee, Pages: 281\n"
     ]
    }
   ],
   "source": [
    "class Book:\n",
    "    def __init__(self, title, author, pages):\n",
    "        self.title = title\n",
    "        self.author = author\n",
    "        self.pages = pages\n",
    "\n",
    "# Create an object of the Book class\n",
    "book1 = Book(\"To Kill a Mockingbird\", \"Harper Lee\", 281)\n",
    "\n",
    "# Print the attributes of the book\n",
    "print(f\"Title: {book1.title}, Author: {book1.author}, Pages: {book1.pages}\")\n"
   ]
  },
  {
   "cell_type": "markdown",
   "id": "dec70745-6bba-4c21-a412-cbee10ddc6c1",
   "metadata": {},
   "source": [
    "### Q.2) Add a method display_info to the Book class that prints the book details using the self object. Call this method for the created object."
   ]
  },
  {
   "cell_type": "code",
   "execution_count": 9,
   "id": "1146df30-124b-46bb-887d-56bbff9f8c01",
   "metadata": {},
   "outputs": [
    {
     "name": "stdout",
     "output_type": "stream",
     "text": [
      "Title: To Kill a Mockingbird\n",
      "Author: Harper Lee\n",
      "Pages: 281\n"
     ]
    }
   ],
   "source": [
    "class Book:\n",
    "    def __init__(self, title, author, pages):\n",
    "        self.title = title\n",
    "        self.author = author\n",
    "        self.pages = pages\n",
    "\n",
    "    def display_info(self):\n",
    "        print(f\"Title: {self.title}\\nAuthor: {self.author}\\nPages: {self.pages}\")\n",
    "\n",
    "# Create an object of the Book class\n",
    "book1 = Book(\"To Kill a Mockingbird\", \"Harper Lee\", 281)\n",
    "\n",
    "# Call the display_info method\n",
    "book1.display_info()\n",
    "\n"
   ]
  },
  {
   "cell_type": "markdown",
   "id": "aa472bb0-13d7-42f5-9cbf-ab13537d49ab",
   "metadata": {},
   "source": [
    "### Q.3) Add a class variable book_count to the Book class that keeps track of the number of book objects created. Update this variable in the class constructor and print the total number of books after creating multiple objects."
   ]
  },
  {
   "cell_type": "code",
   "execution_count": 11,
   "id": "677afedb-b0bf-4fa3-9c43-356541482daf",
   "metadata": {},
   "outputs": [
    {
     "name": "stdout",
     "output_type": "stream",
     "text": [
      "Title: To Kill a Mockingbird\n",
      "Author: Harper Lee\n",
      "Pages: 281\n",
      "\n",
      "Title: 1984\n",
      "Author: George Orwell\n",
      "Pages: 328\n",
      "\n",
      "Title: The Great Gatsby\n",
      "Author: F. Scott Fitzgerald\n",
      "Pages: 180\n",
      "Total number of books: 3\n"
     ]
    }
   ],
   "source": [
    "class Book:\n",
    "    book_count = 0  # Class variable to keep track of book count\n",
    "\n",
    "    def __init__(self, title, author, pages):\n",
    "        self.title = title\n",
    "        self.author = author\n",
    "        self.pages = pages\n",
    "        Book.book_count += 1  # Increment the book count whenever a new object is created\n",
    "\n",
    "    def display_info(self):\n",
    "        print(f\"Title: {self.title}\\nAuthor: {self.author}\\nPages: {self.pages}\")\n",
    "\n",
    "# Create multiple objects of the Book class\n",
    "book1 = Book(\"To Kill a Mockingbird\", \"Harper Lee\", 281)\n",
    "book2 = Book(\"1984\", \"George Orwell\", 328)\n",
    "book3 = Book(\"The Great Gatsby\", \"F. Scott Fitzgerald\", 180)\n",
    "\n",
    "# Call the display_info method for each book\n",
    "book1.display_info()\n",
    "print()  # Print a newline for better readability\n",
    "book2.display_info()\n",
    "print()\n",
    "book3.display_info()\n",
    "\n",
    "# Print the total number of books\n",
    "print(f\"Total number of books: {Book.book_count}\")\n"
   ]
  },
  {
   "cell_type": "markdown",
   "id": "c218b95c-cf6a-4f89-8826-8ccd7b597182",
   "metadata": {},
   "source": [
    "### Q.4) Modify the Book class to include a private member _isbn (underscore prefix) and a  method set_isbn to set its value. Demonstrate the usage of public and private members by creating an object and trying to access these members directly."
   ]
  },
  {
   "cell_type": "code",
   "execution_count": 17,
   "id": "ba032901-b09b-446a-82ee-4468a9ba93bc",
   "metadata": {},
   "outputs": [
    {
     "name": "stdout",
     "output_type": "stream",
     "text": [
      "Title: To Kill a Mockingbird\n",
      "ISBN (direct access): None\n",
      "ISBN (after setting): 978-0-06-112008-4\n"
     ]
    }
   ],
   "source": [
    "class Book:\n",
    "    def __init__(self, title, author, pages):\n",
    "        self.title = title\n",
    "        self.author = author\n",
    "        self.pages = pages\n",
    "        self._isbn = None  # Private member\n",
    "\n",
    "    def set_isbn(self, isbn):\n",
    "        self._isbn = isbn\n",
    "\n",
    "# Create an object of the Book class\n",
    "book1 = Book(\"To Kill a Mockingbird\", \"Harper Lee\", 281)\n",
    "\n",
    "# Trying to access public member\n",
    "print(f\"Title: {book1.title}\")\n",
    "\n",
    "# Trying to access private member directly (not recommended)\n",
    "print(f\"ISBN (direct access): {book1._isbn}\")\n",
    "\n",
    "# Setting ISBN using the setter method\n",
    "book1.set_isbn(\"978-0-06-112008-4\")\n",
    "print(f\"ISBN (after setting): {book1._isbn}\")\n"
   ]
  },
  {
   "cell_type": "markdown",
   "id": "e2007dc9-cce1-4b79-ae3f-ec1327da2cdc",
   "metadata": {},
   "source": [
    "### Q.5) Create a subclass EBook that inherits from the Book class and adds an attribute file_size. Override the display_info method to include file size information.Demonstrate polymorphism by calling display_info on both Book and EBook objects."
   ]
  },
  {
   "cell_type": "code",
   "execution_count": 25,
   "id": "9df3d7bf-9969-4901-b243-fa2c66792bfc",
   "metadata": {},
   "outputs": [
    {
     "name": "stdout",
     "output_type": "stream",
     "text": [
      "Title: To Kill a Mockingbird\n",
      "Author: Harper Lee\n",
      "Pages: 281\n",
      "\n",
      "Title: 1984\n",
      "Author: George Orwell\n",
      "Pages: 328\n",
      "File Size: 1.5 MB\n",
      "\n"
     ]
    }
   ],
   "source": [
    "class Book:\n",
    "    def __init__(self, title, author, pages):\n",
    "        self.title = title\n",
    "        self.author = author\n",
    "        self.pages = pages\n",
    "        self._isbn = None  # Private member\n",
    "\n",
    "    def set_isbn(self, isbn):\n",
    "        self._isbn = isbn\n",
    "\n",
    "    def display_info(self):\n",
    "        print(f\"Title: {self.title}\\nAuthor: {self.author}\\nPages: {self.pages}\")\n",
    "\n",
    "class EBook(Book):\n",
    "    def __init__(self, title, author, pages, file_size):\n",
    "        super().__init__(title, author, pages)  # Call the parent constructor\n",
    "        self.file_size = file_size\n",
    "\n",
    "    def display_info(self):\n",
    "        super().display_info()  # Call the parent method\n",
    "        print(f\"File Size: {self.file_size} MB\")\n",
    "\n",
    "# Demonstrating polymorphism\n",
    "def demonstrate_polymorphism(book):\n",
    "    book.display_info()\n",
    "    print()\n",
    "\n",
    "# Create objects for Book and EBook\n",
    "book1 = Book(\"To Kill a Mockingbird\", \"Harper Lee\", 281)\n",
    "ebook1 = EBook(\"1984\", \"George Orwell\", 328, 1.5)\n",
    "\n",
    "demonstrate_polymorphism(book1)\n",
    "demonstrate_polymorphism(ebook1)\n"
   ]
  },
  {
   "cell_type": "markdown",
   "id": "5b506778-d47e-4d28-9cca-d4bdbe897269",
   "metadata": {},
   "source": [
    "### Q.6) Define another class AudioBook with attributes title, author, duration and a method display_info. Write a function print_book_info that takes any book object (Book, EBook, or AudioBook) and calls its display_info method, demonstrating polymorphism."
   ]
  },
  {
   "cell_type": "code",
   "execution_count": 27,
   "id": "efa3f141-515c-4466-8389-36c93bce889e",
   "metadata": {},
   "outputs": [
    {
     "name": "stdout",
     "output_type": "stream",
     "text": [
      "Title: To Kill a Mockingbird\n",
      "Author: Harper Lee\n",
      "Pages: 281\n",
      "Title: 1984\n",
      "Author: George Orwell\n",
      "Pages: 328\n",
      "File Size: 1.5 MB\n",
      "Title: The Alchemist\n",
      "Author: Paulo Coelho\n",
      "Duration: 6 hours\n"
     ]
    }
   ],
   "source": [
    "class AudioBook:\n",
    "    def __init__(self, title, author, duration):\n",
    "        self.title = title\n",
    "        self.author = author\n",
    "        self.duration = duration\n",
    "\n",
    "    def display_info(self):\n",
    "        print(f\"Title: {self.title}\\nAuthor: {self.author}\\nDuration: {self.duration} hours\")\n",
    "\n",
    "# Create an AudioBook object\n",
    "audiobook1 = AudioBook(\"The Alchemist\", \"Paulo Coelho\", 6)\n",
    "\n",
    "# Function to print book info\n",
    "def print_book_info(book):\n",
    "    book.display_info()\n",
    "\n",
    "# Demonstrate polymorphism with AudioBook\n",
    "print_book_info(book1)\n",
    "print_book_info(ebook1)\n",
    "print_book_info(audiobook1)\n"
   ]
  },
  {
   "cell_type": "markdown",
   "id": "40e3bada-073d-4e86-bd00-e74d34bf78be",
   "metadata": {},
   "source": [
    "### Q.7) Create a class Library that contains a list of Book objects. Add methods to add a book to the library and display all books in the library. Demonstrate containership by creating a library object and adding book objects to it."
   ]
  },
  {
   "cell_type": "code",
   "execution_count": 29,
   "id": "a803bb12-4417-4dcb-9121-36b6a7bf70fa",
   "metadata": {},
   "outputs": [
    {
     "name": "stdout",
     "output_type": "stream",
     "text": [
      "Books in the Library:\n",
      "Title: To Kill a Mockingbird\n",
      "Author: Harper Lee\n",
      "Pages: 281\n",
      "\n",
      "Title: 1984\n",
      "Author: George Orwell\n",
      "Pages: 328\n",
      "File Size: 1.5 MB\n",
      "\n",
      "Title: The Alchemist\n",
      "Author: Paulo Coelho\n",
      "Duration: 6 hours\n",
      "\n"
     ]
    }
   ],
   "source": [
    "class Library:\n",
    "    def __init__(self):\n",
    "        self.books = []  # List to hold book objects\n",
    "\n",
    "    def add_book(self, book):\n",
    "        self.books.append(book)\n",
    "\n",
    "    def display_all_books(self):\n",
    "        print(\"Books in the Library:\")\n",
    "        for book in self.books:\n",
    "            book.display_info()\n",
    "            print()  # Print a newline for better readability\n",
    "\n",
    "# Create a library object and add books\n",
    "library = Library()\n",
    "library.add_book(book1)\n",
    "library.add_book(ebook1)\n",
    "library.add_book(audiobook1)\n",
    "\n",
    "# Display all books in the library\n",
    "library.display_all_books()\n"
   ]
  },
  {
   "cell_type": "markdown",
   "id": "832e73da-9619-4321-bf0a-1a49d5ebfc94",
   "metadata": {},
   "source": [
    "### Q.8) Explain the concepts of reusability and delegation in OOP with examples. Modify the Library class to include a method find_book_by_title that delegates the responsibility of searching for a book to a helper method _search."
   ]
  },
  {
   "cell_type": "code",
   "execution_count": 33,
   "id": "622ac3d9-cd7d-4af9-9ea2-61e582a52b72",
   "metadata": {},
   "outputs": [
    {
     "name": "stdout",
     "output_type": "stream",
     "text": [
      "Reusability Example:\n",
      "Animal speaks\n",
      "Woof!\n",
      "\n",
      "Delegation Example:\n",
      "Log: Application started\n",
      "\n",
      "Books in the Library:\n",
      "Title: To Kill a Mockingbird\n",
      "Author: Harper Lee\n",
      "Pages: 281\n",
      "\n",
      "Title: 1984\n",
      "Author: George Orwell\n",
      "Pages: 328\n",
      "\n",
      "Book found:\n",
      "Title: 1984\n",
      "Author: George Orwell\n",
      "Pages: 328\n"
     ]
    }
   ],
   "source": [
    "# 8. Concepts of Reusability and Delegation in OOP\n",
    "\n",
    "# Example of Reusability\n",
    "class Animal:\n",
    "    def speak(self):\n",
    "        return \"Animal speaks\"\n",
    "\n",
    "class Dog(Animal):  # Dog inherits from Animal\n",
    "    def bark(self):\n",
    "        return \"Woof!\"\n",
    "\n",
    "# Demonstrate Reusability\n",
    "print(\"Reusability Example:\")\n",
    "dog = Dog()\n",
    "print(dog.speak())  # Reuses the speak method from Animal\n",
    "print(dog.bark())   # Dog's own method\n",
    "print()\n",
    "\n",
    "# Example of Delegation\n",
    "class Logger:\n",
    "    def log(self, message):\n",
    "        print(f\"Log: {message}\")\n",
    "\n",
    "class Application:\n",
    "    def __init__(self):\n",
    "        self.logger = Logger()\n",
    "\n",
    "    def run(self):\n",
    "        self.logger.log(\"Application started\")\n",
    "\n",
    "# Demonstrate Delegation\n",
    "print(\"Delegation Example:\")\n",
    "app = Application()\n",
    "app.run()  # Delegates logging responsibility to the Logger class\n",
    "print()\n",
    "\n",
    "# 8. Modifying the Library Class\n",
    "class Book:\n",
    "    def __init__(self, title, author, pages):\n",
    "        self._title = title  # Private member\n",
    "        self._author = author  # Private member\n",
    "        self._pages = pages  # Private member\n",
    "\n",
    "    # Getter methods\n",
    "    def get_title(self):\n",
    "        return self._title\n",
    "\n",
    "    def get_author(self):\n",
    "        return self._author\n",
    "\n",
    "    def get_pages(self):\n",
    "        return self._pages\n",
    "\n",
    "    def display_info(self):\n",
    "        print(f\"Title: {self._title}\\nAuthor: {self._author}\\nPages: {self._pages}\")\n",
    "\n",
    "class Library:\n",
    "    def __init__(self):\n",
    "        self.books = []  # List to hold book objects\n",
    "\n",
    "    def add_book(self, book):\n",
    "        self.books.append(book)\n",
    "\n",
    "    def display_all_books(self):\n",
    "        print(\"Books in the Library:\")\n",
    "        for book in self.books:\n",
    "            book.display_info()\n",
    "            print()\n",
    "\n",
    "    def find_book_by_title(self, title):\n",
    "        return self._search(title)\n",
    "\n",
    "    def _search(self, title):\n",
    "        for book in self.books:\n",
    "            if book.get_title() == title:  # Using public getter\n",
    "                return book\n",
    "        return None\n",
    "\n",
    "# Example usage\n",
    "library = Library()\n",
    "book1 = Book(\"To Kill a Mockingbird\", \"Harper Lee\", 281)\n",
    "book2 = Book(\"1984\", \"George Orwell\", 328)\n",
    "\n",
    "library.add_book(book1)\n",
    "library.add_book(book2)\n",
    "\n",
    "# Display all books\n",
    "library.display_all_books()\n",
    "\n",
    "# Find a book by title\n",
    "found_book = library.find_book_by_title(\"1984\")\n",
    "if found_book:\n",
    "    print(\"Book found:\")\n",
    "    found_book.display_info()\n",
    "else:\n",
    "    print(\"Book not found.\")\n"
   ]
  },
  {
   "cell_type": "markdown",
   "id": "a007a7ba-8b0a-4cc1-9221-b426d92ae412",
   "metadata": {},
   "source": [
    "### Q.9)Modify the Book class to make title, author, and pages private. Provide public getter and setter methods to access and modify these attributes, demonstrating data abstraction and encapsulation. "
   ]
  },
  {
   "cell_type": "code",
   "execution_count": 35,
   "id": "3a4713c1-dd58-4f46-b0d3-1a66c664fb71",
   "metadata": {},
   "outputs": [
    {
     "name": "stdout",
     "output_type": "stream",
     "text": [
      "Demonstrating Data Abstraction and Encapsulation in Book Class:\n",
      "Initial Book Information:\n",
      "Title: To Kill a Mockingbird\n",
      "Author: Harper Lee\n",
      "Pages: 281\n",
      "\n",
      "Accessing Book Attributes using Getters:\n",
      "Title: To Kill a Mockingbird\n",
      "Author: Harper Lee\n",
      "Pages: 281\n",
      "\n",
      "Modifying Book Attributes using Setters:\n",
      "Updated Book Information:\n",
      "Title: 1984\n",
      "Author: George Orwell\n",
      "Pages: 328\n"
     ]
    }
   ],
   "source": [
    "# 9. Book Class with Private Attributes and Public Getter/Setter Methods\n",
    "\n",
    "class Book:\n",
    "    def __init__(self, title, author, pages):\n",
    "        self._title = title  # Private member\n",
    "        self._author = author  # Private member\n",
    "        self._pages = pages  # Private member\n",
    "\n",
    "    # Getter methods\n",
    "    def get_title(self):\n",
    "        return self._title\n",
    "\n",
    "    def get_author(self):\n",
    "        return self._author\n",
    "\n",
    "    def get_pages(self):\n",
    "        return self._pages\n",
    "\n",
    "    # Setter methods\n",
    "    def set_title(self, title):\n",
    "        self._title = title\n",
    "\n",
    "    def set_author(self, author):\n",
    "        self._author = author\n",
    "\n",
    "    def set_pages(self, pages):\n",
    "        self._pages = pages\n",
    "\n",
    "    def display_info(self):\n",
    "        print(f\"Title: {self._title}\\nAuthor: {self._author}\\nPages: {self._pages}\")\n",
    "\n",
    "# Example usage\n",
    "print(\"Demonstrating Data Abstraction and Encapsulation in Book Class:\")\n",
    "book = Book(\"To Kill a Mockingbird\", \"Harper Lee\", 281)\n",
    "\n",
    "# Display initial information\n",
    "print(\"Initial Book Information:\")\n",
    "book.display_info()\n",
    "print()\n",
    "\n",
    "# Accessing using getters\n",
    "print(\"Accessing Book Attributes using Getters:\")\n",
    "print(f\"Title: {book.get_title()}\")\n",
    "print(f\"Author: {book.get_author()}\")\n",
    "print(f\"Pages: {book.get_pages()}\")\n",
    "print()\n",
    "\n",
    "# Modifying attributes using setters\n",
    "print(\"Modifying Book Attributes using Setters:\")\n",
    "book.set_title(\"1984\")\n",
    "book.set_author(\"George Orwell\")\n",
    "book.set_pages(328)\n",
    "\n",
    "# Display updated information\n",
    "print(\"Updated Book Information:\")\n",
    "book.display_info()\n"
   ]
  }
 ],
 "metadata": {
  "kernelspec": {
   "display_name": "Python 3 (ipykernel)",
   "language": "python",
   "name": "python3"
  },
  "language_info": {
   "codemirror_mode": {
    "name": "ipython",
    "version": 3
   },
   "file_extension": ".py",
   "mimetype": "text/x-python",
   "name": "python",
   "nbconvert_exporter": "python",
   "pygments_lexer": "ipython3",
   "version": "3.12.4"
  }
 },
 "nbformat": 4,
 "nbformat_minor": 5
}
