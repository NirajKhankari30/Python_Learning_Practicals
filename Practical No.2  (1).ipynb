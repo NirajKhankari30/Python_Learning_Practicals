{
 "cells": [
  {
   "cell_type": "markdown",
   "id": "d1e0cb66-7944-4b8a-ad14-6125ce981243",
   "metadata": {},
   "source": [
    "# Niraj Khankari\n",
    "# Roll no.26\n",
    "# Practical No. 02"
   ]
  },
  {
   "cell_type": "markdown",
   "id": "f06cf4e1-d12d-4f5d-922c-4aeb53f0a3dd",
   "metadata": {},
   "source": [
    "# Q.1 Write a Python program that takes an integer input from the user and prints \"Positive\" if the number is greater than zero."
   ]
  },
  {
   "cell_type": "code",
   "execution_count": 15,
   "id": "f200bf9d-e9d5-4440-aef6-14cc8c9ace3c",
   "metadata": {},
   "outputs": [
    {
     "name": "stdin",
     "output_type": "stream",
     "text": [
      "Enter an integer:  3\n"
     ]
    },
    {
     "name": "stdout",
     "output_type": "stream",
     "text": [
      "Positive\n"
     ]
    }
   ],
   "source": [
    "# Taking input from the user\n",
    "number = int(input(\"Enter an integer: \"))\n",
    "\n",
    "# Checking if the number is positive\n",
    "if number > 0:\n",
    "    print(\"Positive\")\n"
   ]
  },
  {
   "cell_type": "markdown",
   "id": "580180c9-e439-45e6-8dd4-c54a0ea2512c",
   "metadata": {},
   "source": [
    "# Q.2 Write a Python program that takes an integer input from the user and prints \"Even\" if the number is even, and \"Odd\" if the number is odd."
   ]
  },
  {
   "cell_type": "code",
   "execution_count": 18,
   "id": "1b912927-6cb5-486b-9192-91726bcaa62b",
   "metadata": {},
   "outputs": [
    {
     "name": "stdin",
     "output_type": "stream",
     "text": [
      "Enter an integer:  5\n"
     ]
    },
    {
     "name": "stdout",
     "output_type": "stream",
     "text": [
      "Odd\n"
     ]
    }
   ],
   "source": [
    "# Taking input from the user and converting it to an integer\n",
    "number = int(input(\"Enter an integer: \"))\n",
    "\n",
    "# Checking if the number is even or odd using modulo operator\n",
    "if number % 2 == 0:\n",
    "    print(\"Even\")\n",
    "else:\n",
    "    print(\"Odd\")\n",
    " "
   ]
  },
  {
   "cell_type": "markdown",
   "id": "74d1e5d4-cbe5-4fce-be27-9a4aff0b48f4",
   "metadata": {},
   "source": [
    "# Q.3 Write a Python program that takes an integer input from the user and prints \"Positive\", \"Negative\", or \"Zero\" based on the value of the input."
   ]
  },
  {
   "cell_type": "code",
   "execution_count": 33,
   "id": "abeef79e-3948-4fe0-a33e-655e2759f2e7",
   "metadata": {},
   "outputs": [
    {
     "name": "stdin",
     "output_type": "stream",
     "text": [
      "Enter an integer:  0\n"
     ]
    },
    {
     "name": "stdout",
     "output_type": "stream",
     "text": [
      "Zero\n"
     ]
    }
   ],
   "source": [
    "# Taking input from the user and converting it to an integer\n",
    "number = int(input(\"Enter an integer: \"))\n",
    "\n",
    "# Checking the value of the number\n",
    "if number > 0:\n",
    "    print(\"Positive\")\n",
    "elif number < 0:\n",
    "    print(\"Negative\")\n",
    "else:\n",
    "    print(\"Zero\")\n",
    "    \n"
   ]
  },
  {
   "cell_type": "markdown",
   "id": "4d2b6405-a878-4e75-a34b-4bb899b35ac9",
   "metadata": {},
   "source": [
    "# Q.4 Write a Python program that takes an integer input from the user and prints a grade based on the following criteria:\n",
    "# 90 and above: A\n",
    "# 80 to 89: B\n",
    "# 70 to 79: C\n",
    "# 60 to 69: D\n",
    "# Below 60: F"
   ]
  },
  {
   "cell_type": "code",
   "execution_count": 46,
   "id": "893b1677-161a-472d-a415-0319e98d0d37",
   "metadata": {},
   "outputs": [
    {
     "name": "stdin",
     "output_type": "stream",
     "text": [
      "Enter a Marks: 69\n"
     ]
    },
    {
     "name": "stdout",
     "output_type": "stream",
     "text": [
      "D\n"
     ]
    }
   ],
   "source": [
    "number = int(input(\"Enter a Marks:\"))\n",
    "if number > 90:\n",
    "    print(\"A\")\n",
    "elif number >=80 and number <= 89:\n",
    "    print(\"B\")\n",
    "elif number >= 70 and number <= 79:\n",
    "    print(\"C\")\n",
    "elif number >= 60 and number <= 69:\n",
    "    print(\"D\")\n",
    "else:\n",
    "    print(\"F\")"
   ]
  },
  {
   "cell_type": "markdown",
   "id": "8aab6ddd-466b-492e-b621-6abcf172ae6e",
   "metadata": {},
   "source": [
    "# Q.5 Write a Python program that uses a while loop to print numbers from 1 to 10."
   ]
  },
  {
   "cell_type": "code",
   "execution_count": 52,
   "id": "f00bf2c9-4522-447d-9f19-3bc29d058a9b",
   "metadata": {},
   "outputs": [
    {
     "name": "stdout",
     "output_type": "stream",
     "text": [
      "1\n",
      "2\n",
      "3\n",
      "4\n",
      "5\n",
      "6\n",
      "7\n",
      "8\n",
      "9\n",
      "10\n"
     ]
    }
   ],
   "source": [
    "# Initialize a variable to start counting from 1\n",
    "num = 1\n",
    "\n",
    "# Use a while loop to iterate as long as num is less than or equal to 10\n",
    "while num <= 10:\n",
    "    # Print the current value of num\n",
    "    print(num)\n",
    "    # Increment num by 1 for the next iteration\n",
    "    num += 1\n"
   ]
  },
  {
   "cell_type": "markdown",
   "id": "0cbaa9d1-dd0d-4b53-828e-581955d073ab",
   "metadata": {},
   "source": [
    "# Q.6 Write a Python program that uses a for loop to iterate through a list of integers and prints each number."
   ]
  },
  {
   "cell_type": "code",
   "execution_count": 55,
   "id": "5dcc2357-10cc-4104-8e94-188f1bd33eee",
   "metadata": {},
   "outputs": [
    {
     "name": "stdout",
     "output_type": "stream",
     "text": [
      "1\n",
      "2\n",
      "3\n",
      "4\n",
      "5\n"
     ]
    }
   ],
   "source": [
    "# Define a list of integers\n",
    "numbers = [1, 2, 3, 4, 5]\n",
    "\n",
    "# Use a for loop to iterate through each number in the list\n",
    "for number in numbers:\n",
    "    # Print each number in the list\n",
    "    print(number)\n"
   ]
  },
  {
   "cell_type": "markdown",
   "id": "9f3132b2-6b98-46d4-b9b4-12eeacad246f",
   "metadata": {},
   "source": [
    "# Q.7 Write a Python program that calculates the sum of all numbers from 1 to 100 using an appropriate loop structure."
   ]
  },
  {
   "cell_type": "code",
   "execution_count": 61,
   "id": "3cd7abdc-13d9-4778-9658-9c97a11f92d0",
   "metadata": {},
   "outputs": [
    {
     "name": "stdout",
     "output_type": "stream",
     "text": [
      "The sum of numbers from 1 to 100 is: 5050\n"
     ]
    }
   ],
   "source": [
    "# Initialize a variable to store the sum\n",
    "total_sum = 0\n",
    "\n",
    "# Iterate through numbers from 1 to 100 (inclusive)\n",
    "for num in range(1, 101):\n",
    "    # Add each number to the total_sum\n",
    "    total_sum += num\n",
    "\n",
    "# Print the sum of numbers from 1 to 100\n",
    "print(\"The sum of numbers from 1 to 100 is:\", total_sum)\n"
   ]
  },
  {
   "cell_type": "markdown",
   "id": "fc0c8317-fc16-49f4-bbe3-6cc8ba8a206b",
   "metadata": {},
   "source": [
    "# Q.8 Write a Python program that uses nested loops to print the following pattern:\n",
    "# *\n",
    "# * *\n",
    "# * * *\n",
    "# * * * *\n",
    "# * * * * *"
   ]
  },
  {
   "cell_type": "code",
   "execution_count": 2,
   "id": "8af4a4d6-98b2-4a35-9ba2-69a4f3fe13b0",
   "metadata": {},
   "outputs": [
    {
     "name": "stdout",
     "output_type": "stream",
     "text": [
      "* \n",
      "* * \n",
      "* * * \n",
      "* * * * \n",
      "* * * * * \n"
     ]
    }
   ],
   "source": [
    "# Define the number of rows in the pattern\n",
    "num_rows = 5\n",
    "\n",
    "# Outer loop for each row\n",
    "for i in range(1, num_rows + 1):\n",
    "    # Inner loop to print stars in each row\n",
    "    for j in range(i):\n",
    "        print(\"*\", end=\" \")\n",
    "    # Move to the next line after printing stars for the current row\n",
    "    print()\n"
   ]
  },
  {
   "cell_type": "markdown",
   "id": "632dc3d6-93be-426d-96e3-62546c36089a",
   "metadata": {},
   "source": [
    "# Q.9 Write a Python program that uses a for loop to print numbers from 1 to 10, but breaks out of the loop when the number is equal to 5.\n"
   ]
  },
  {
   "cell_type": "code",
   "execution_count": 5,
   "id": "2f9d2080-d5d1-4b04-85a7-b993e82393b1",
   "metadata": {},
   "outputs": [
    {
     "name": "stdout",
     "output_type": "stream",
     "text": [
      "1\n",
      "2\n",
      "3\n",
      "4\n",
      "5\n"
     ]
    }
   ],
   "source": [
    "# Loop through numbers from 1 to 10\n",
    "for number in range(1, 11):\n",
    "    # Print the current number\n",
    "    print(number)\n",
    "    \n",
    "    # Check if the number is 5\n",
    "    if number == 5:\n",
    "        # Exit the loop if the number is 5\n",
    "        break\n"
   ]
  },
  {
   "cell_type": "markdown",
   "id": "a4037c00-abe4-40ec-9da4-b3f5b3dfb444",
   "metadata": {},
   "source": [
    "# Q.10 Write a Python program that defines a function using the pass statement. The function should be named do_nothing."
   ]
  },
  {
   "cell_type": "code",
   "execution_count": 8,
   "id": "79caa9b0-a5f0-445e-ab0a-35a221f8358f",
   "metadata": {},
   "outputs": [],
   "source": [
    "# Define a function named do_nothing\n",
    "def do_nothing():\n",
    "    # The pass statement indicates that the function doesn't do anything\n",
    "    pass\n",
    "\n",
    "# Call the function (this will not produce any output)\n",
    "do_nothing()\n"
   ]
  },
  {
   "cell_type": "markdown",
   "id": "761b91ba-80e0-4465-a953-3592fe910d90",
   "metadata": {},
   "source": [
    "# Q.11. Write a Python program that uses a for loop to search for a number in a list. If the number is found, print \"Found\", otherwise print \"Not Found\" after the loop completes."
   ]
  },
  {
   "cell_type": "code",
   "execution_count": 11,
   "id": "1e54577e-6eac-41ba-871e-aef9a4465b54",
   "metadata": {},
   "outputs": [
    {
     "name": "stdout",
     "output_type": "stream",
     "text": [
      "Found\n"
     ]
    }
   ],
   "source": [
    "# Define the list of numbers\n",
    "numbers = [1, 3, 5, 7, 9, 11, 13, 15]\n",
    "\n",
    "# Define the number to search for\n",
    "target_number = 7\n",
    "\n",
    "# Initialize a flag to indicate whether the number was found\n",
    "found = False\n",
    "\n",
    "# Loop through each number in the list\n",
    "for number in numbers:\n",
    "    # Check if the current number is equal to the target number\n",
    "    if number == target_number:\n",
    "        # If found, set the flag to True and break out of the loop\n",
    "        found = True\n",
    "        break\n",
    "\n",
    "# Check if the number was found\n",
    "if found:\n",
    "    print(\"Found\")\n",
    "else:\n",
    "    print(\"Not Found\")\n"
   ]
  },
  {
   "cell_type": "markdown",
   "id": "b6b8fee6-4cfc-4d27-b95f-de7d7a1f54e5",
   "metadata": {},
   "source": [
    "# Q.12 Write a Python program that creates a tuple with five elements and prints each element using a for loop"
   ]
  },
  {
   "cell_type": "code",
   "execution_count": 14,
   "id": "b8b834c4-4e90-459a-8419-923bffeee0c1",
   "metadata": {},
   "outputs": [
    {
     "name": "stdout",
     "output_type": "stream",
     "text": [
      "10\n",
      "20\n",
      "30\n",
      "40\n",
      "50\n"
     ]
    }
   ],
   "source": [
    "# Create a tuple with five elements\n",
    "my_tuple = (10, 20, 30, 40, 50)\n",
    "\n",
    "# Loop through each element in the tuple\n",
    "for element in my_tuple:\n",
    "    # Print the current element\n",
    "    print(element)\n"
   ]
  },
  {
   "cell_type": "markdown",
   "id": "1d2df755-c1a0-4056-b528-23fe7761c96e",
   "metadata": {},
   "source": [
    "# Q.13 Write a Python program that creates a list of five elements, adds a new element to the list, and prints the updated list."
   ]
  },
  {
   "cell_type": "code",
   "execution_count": 18,
   "id": "ffcc0d99-fc37-4621-85ba-cf3202b2dfa8",
   "metadata": {},
   "outputs": [
    {
     "name": "stdout",
     "output_type": "stream",
     "text": [
      "[1, 2, 3, 4, 5, 6]\n"
     ]
    }
   ],
   "source": [
    "# Create a list with five elements\n",
    "my_list = [1, 2, 3, 4, 5]\n",
    "\n",
    "# Add a new element to the list\n",
    "my_list.append(6)\n",
    "\n",
    "# Print the updated list\n",
    "print(my_list)\n"
   ]
  },
  {
   "cell_type": "markdown",
   "id": "2cd9135e-94f8-498d-9db3-ca2be0b978bb",
   "metadata": {},
   "source": [
    "# Q.14 Write a Python program that creates a dictionary with three key-value pairs, adds a new key-value pair, and prints the updated dictionary"
   ]
  },
  {
   "cell_type": "code",
   "execution_count": 22,
   "id": "0e9b8687-ab3e-4895-a0df-3cba3062e5ea",
   "metadata": {},
   "outputs": [
    {
     "name": "stdout",
     "output_type": "stream",
     "text": [
      "{'name': 'Raghav', 'age': 31, 'city': 'Ram Nagar', 'occupation': 'MBBS'}\n"
     ]
    }
   ],
   "source": [
    "# Create a dictionary with three key-value pairs\n",
    "my_dict = {\n",
    "    'name': 'Raghav',\n",
    "    'age': 31,\n",
    "    'city': 'Ram Nagar'\n",
    "}\n",
    "\n",
    "# Add a new key-value pair to the dictionary\n",
    "my_dict['occupation'] = 'MBBS'\n",
    "\n",
    "# Print the updated dictionary\n",
    "print(my_dict)\n"
   ]
  },
  {
   "cell_type": "markdown",
   "id": "30d8b12d-c3d9-42c3-a81e-fb44b04e64f6",
   "metadata": {},
   "source": [
    "# Mini-Project: Student Management System\n",
    "# Objective: Create a Python-based student management system that allows users to perform various operations such as adding students, viewing student details, and calculating average grades.This project will utilize decision control statements, loops, and data structures like lists and dictionaries.\n",
    "# Project Requirements:\n",
    "# 1. Menu System:\n",
    "# Display a menu to the user with the following options:\n",
    "# Add Student\n",
    "# View Students\n",
    "# Calculate Average Grade\n",
    "# Exit\n",
    "# 2. Add Student:\n",
    "# Prompt the user to enter the student's name, ID, and grades for three subjects.Store the student details in a dictionary and add the dictionary to a list of students.\n",
    "\n",
    "# 3. View Students:\n",
    "# Display the list of all students with their details (name, ID, and grades).\n",
    "# Use a loop to iterate through the list of students and print each student's details.\n",
    "\n",
    "# 4. Calculate Average Grade:\n",
    "# Prompt the user to enter a student's ID.\n",
    "# Find the student with the matching ID and calculate the average of their grades.\n",
    "# Print the student's name and their average grade.\n",
    "# If the student ID is not found, print an appropriate message.\n",
    "\n",
    "# 5. Exit:\n",
    "# Exit the program\n"
   ]
  },
  {
   "cell_type": "code",
   "execution_count": 27,
   "id": "7e15232b-7297-43b0-9459-e1804ee74923",
   "metadata": {},
   "outputs": [
    {
     "name": "stdout",
     "output_type": "stream",
     "text": [
      "\n",
      "Menu:\n",
      "1. Add Student\n",
      "2. View Students\n",
      "3. Calculate Average Grade\n",
      "4. Exit\n"
     ]
    },
    {
     "name": "stdin",
     "output_type": "stream",
     "text": [
      "Enter your choice (1-4):  3\n",
      "Enter student ID to calculate average grade:  3722121056\n"
     ]
    },
    {
     "name": "stdout",
     "output_type": "stream",
     "text": [
      "Student ID not found.\n",
      "\n",
      "Menu:\n",
      "1. Add Student\n",
      "2. View Students\n",
      "3. Calculate Average Grade\n",
      "4. Exit\n"
     ]
    },
    {
     "name": "stdin",
     "output_type": "stream",
     "text": [
      "Enter your choice (1-4):  1\n",
      "Enter student's name:  Niraj\n",
      "Enter student ID:  A\n",
      "Enter grade for subject 1:  67.0\n",
      "Enter grade for subject 2:  78.9\n",
      "Enter grade for subject 3:  99.0\n"
     ]
    },
    {
     "name": "stdout",
     "output_type": "stream",
     "text": [
      "\n",
      "Menu:\n",
      "1. Add Student\n",
      "2. View Students\n",
      "3. Calculate Average Grade\n",
      "4. Exit\n"
     ]
    },
    {
     "name": "stdin",
     "output_type": "stream",
     "text": [
      "Enter your choice (1-4):  3\n",
      "Enter student ID to calculate average grade:  A\n"
     ]
    },
    {
     "name": "stdout",
     "output_type": "stream",
     "text": [
      "Name: Niraj, Average Grade: 81.63\n",
      "\n",
      "Menu:\n",
      "1. Add Student\n",
      "2. View Students\n",
      "3. Calculate Average Grade\n",
      "4. Exit\n"
     ]
    },
    {
     "name": "stdin",
     "output_type": "stream",
     "text": [
      "Enter your choice (1-4):  3\n",
      "Enter student ID to calculate average grade:  Ram\n"
     ]
    },
    {
     "name": "stdout",
     "output_type": "stream",
     "text": [
      "Student ID not found.\n",
      "\n",
      "Menu:\n",
      "1. Add Student\n",
      "2. View Students\n",
      "3. Calculate Average Grade\n",
      "4. Exit\n"
     ]
    },
    {
     "name": "stdin",
     "output_type": "stream",
     "text": [
      "Enter your choice (1-4):  4\n"
     ]
    },
    {
     "name": "stdout",
     "output_type": "stream",
     "text": [
      "Exiting program.\n"
     ]
    }
   ],
   "source": [
    "# Initialize an empty list to store student dictionaries\n",
    "students = []\n",
    "\n",
    "def add_student():\n",
    "    \"\"\"Add a student with their name, ID, and grades.\"\"\"\n",
    "    name = input(\"Enter student's name: \")\n",
    "    student_id = input(\"Enter student ID: \")\n",
    "    grades = [float(input(f\"Enter grade for subject {i+1}: \")) for i in range(3)]\n",
    "    students.append({'name': name, 'id': student_id, 'grades': grades})\n",
    "\n",
    "def view_students():\n",
    "    \"\"\"Display all students and their details.\"\"\"\n",
    "    if not students:\n",
    "        print(\"No students to display.\")\n",
    "        return\n",
    "    for student in students:\n",
    "        print(f\"Name: {student['name']}, ID: {student['id']}, Grades: {student['grades']}\")\n",
    "\n",
    "def calculate_average_grade():\n",
    "    \"\"\"Calculate and print the average grade of a student by ID.\"\"\"\n",
    "    student_id = input(\"Enter student ID to calculate average grade: \")\n",
    "    for student in students:\n",
    "        if student['id'] == student_id:\n",
    "            avg_grade = sum(student['grades']) / len(student['grades'])\n",
    "            print(f\"Name: {student['name']}, Average Grade: {avg_grade:.2f}\")\n",
    "            return\n",
    "    print(\"Student ID not found.\")\n",
    "\n",
    "def main():\n",
    "    \"\"\"Run the student management system.\"\"\"\n",
    "    while True:\n",
    "        print(\"\\nMenu:\")\n",
    "        print(\"1. Add Student\")\n",
    "        print(\"2. View Students\")\n",
    "        print(\"3. Calculate Average Grade\")\n",
    "        print(\"4. Exit\")\n",
    "        choice = input(\"Enter your choice (1-4): \")\n",
    "        \n",
    "        if choice == '1':\n",
    "            add_student()\n",
    "        elif choice == '2':\n",
    "            view_students()\n",
    "        elif choice == '3':\n",
    "            calculate_average_grade()\n",
    "        elif choice == '4':\n",
    "            print(\"Exiting program.\")\n",
    "            break\n",
    "        else:\n",
    "            print(\"Invalid choice. Please enter a number between 1 and 4.\")\n",
    "\n",
    "if __name__ == \"__main__\":\n",
    "    main()\n"
   ]
  },
  {
   "cell_type": "code",
   "execution_count": null,
   "id": "b674b83d-e306-4f40-bdcb-5d6dff4005ef",
   "metadata": {},
   "outputs": [],
   "source": []
  }
 ],
 "metadata": {
  "kernelspec": {
   "display_name": "Python 3 (ipykernel)",
   "language": "python",
   "name": "python3"
  },
  "language_info": {
   "codemirror_mode": {
    "name": "ipython",
    "version": 3
   },
   "file_extension": ".py",
   "mimetype": "text/x-python",
   "name": "python",
   "nbconvert_exporter": "python",
   "pygments_lexer": "ipython3",
   "version": "3.12.4"
  }
 },
 "nbformat": 4,
 "nbformat_minor": 5
}
