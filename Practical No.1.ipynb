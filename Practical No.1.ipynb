{
 "cells": [
  {
   "cell_type": "markdown",
   "id": "aa01d148-218a-471a-84a2-d9e7bd1223cf",
   "metadata": {},
   "source": [
    "# Niraj Khankari\n",
    "\n",
    "\n",
    "\n"
   ]
  },
  {
   "cell_type": "markdown",
   "id": "373b93e7-e5b8-4942-8eb1-6e86161ef368",
   "metadata": {},
   "source": [
    "# Roll no.26"
   ]
  },
  {
   "cell_type": "markdown",
   "id": "f9a0e86b-f886-458d-b77a-9d0b1674e7d2",
   "metadata": {},
   "source": [
    "# Practical No.1"
   ]
  },
  {
   "cell_type": "markdown",
   "id": "d88a65a8-197d-492a-9745-e7e4b0f45b35",
   "metadata": {},
   "source": [
    "# Q.1. Write a Python program that creates variables of different data types (integer, float, string, list, and dictionary) and prints their types using the type() function."
   ]
  },
  {
   "cell_type": "code",
   "execution_count": 7,
   "id": "01b6e466-2e09-437c-9f1a-745bed42f62c",
   "metadata": {},
   "outputs": [
    {
     "name": "stdout",
     "output_type": "stream",
     "text": [
      "Variable my_integer is of type: <class 'int'>\n",
      "Variable my_float is of type: <class 'float'>\n",
      "Variable my_string is of type: <class 'str'>\n",
      "Variable my_list is of type: <class 'list'>\n",
      "Variable my_dict is of type: <class 'dict'>\n"
     ]
    }
   ],
   "source": [
    "# Define variables of different data types\n",
    "\n",
    "# Integer variable\n",
    "my_integer = 10\n",
    "\n",
    "# Float variable\n",
    "my_float = 3.14\n",
    "\n",
    "# String variable\n",
    "my_string = \"Hello, World!\"\n",
    "\n",
    "# List variable\n",
    "my_list = [1, 2, 3, 4, 5]\n",
    "\n",
    "# Dictionary variable\n",
    "my_dict = {'name': 'John', 'age': 30}\n",
    "\n",
    "# Print the types of each variable using type() function\n",
    "\n",
    "# Print type of my_integer\n",
    "print(\"Variable my_integer is of type:\", type(my_integer))\n",
    "\n",
    "# Print type of my_float\n",
    "print(\"Variable my_float is of type:\", type(my_float))\n",
    "\n",
    "# Print type of my_string\n",
    "print(\"Variable my_string is of type:\", type(my_string))\n",
    "\n",
    "# Print type of my_list\n",
    "print(\"Variable my_list is of type:\", type(my_list))\n",
    "\n",
    "# Print type of my_dict\n",
    "print(\"Variable my_dict is of type:\", type(my_dict))\n"
   ]
  },
  {
   "cell_type": "markdown",
   "id": "97491d34-4211-4295-8045-9e00fb8aa4a3",
   "metadata": {},
   "source": [
    "# Q2. Write a Python program that takes user input for their name and age using the input() function, then prints a greeting message including the input data"
   ]
  },
  {
   "cell_type": "code",
   "execution_count": 10,
   "id": "58e3553f-5fd0-41b2-9403-d1a76a5b077e",
   "metadata": {},
   "outputs": [
    {
     "name": "stdin",
     "output_type": "stream",
     "text": [
      "Enter your name:  Jai Shri Ram\n",
      "Enter your age:  5000\n"
     ]
    },
    {
     "name": "stdout",
     "output_type": "stream",
     "text": [
      "Hello Jai Shri Ram! You are 5000 years old.\n"
     ]
    }
   ],
   "source": [
    "# Take user input for name and age\n",
    "name = input(\"Enter your name: \")\n",
    "age = input(\"Enter your age: \")\n",
    "\n",
    "# Print greeting message including user input\n",
    "print(f\"Hello {name}! You are {age} years old.\")\n"
   ]
  },
  {
   "cell_type": "markdown",
   "id": "afa97c01-0705-480b-872f-e919b0e611dd",
   "metadata": {},
   "source": [
    "# Q3. Define a constant PI = 3.14159 and a variable radius. Write a program to calculate and print the area of a circle using the formula area = PI * radius * radius."
   ]
  },
  {
   "cell_type": "code",
   "execution_count": 16,
   "id": "ac373f66-ef4e-4636-8fec-26c1550dc14f",
   "metadata": {},
   "outputs": [
    {
     "name": "stdin",
     "output_type": "stream",
     "text": [
      "Enter the radius of the circle:  5\n"
     ]
    },
    {
     "name": "stdout",
     "output_type": "stream",
     "text": [
      "The area of the circle with radius 5.0 is: 78.53975\n"
     ]
    }
   ],
   "source": [
    "# Define a constant PI\n",
    "PI = 3.14159\n",
    "\n",
    "# Take user input for the radius of the circle\n",
    "radius = float(input(\"Enter the radius of the circle: \"))\n",
    "\n",
    "# Calculate the area of the circle using the formula: area = PI * radius * radius\n",
    "area = PI * radius * radius\n",
    "\n",
    "# Print the calculated area\n",
    "print(f\"The area of the circle with radius {radius} is: {area}\")\n"
   ]
  },
  {
   "cell_type": "markdown",
   "id": "c455c904-e3a2-437f-9745-59f2525c4a60",
   "metadata": {},
   "source": [
    "# Q4. Write a Python program that demonstrates different data types (integer, float, string, list, tuple, dictionary). Create one example of each type and print them"
   ]
  },
  {
   "cell_type": "code",
   "execution_count": 22,
   "id": "c72db214-5e92-4082-a2ba-204fb1cbd49d",
   "metadata": {},
   "outputs": [
    {
     "name": "stdout",
     "output_type": "stream",
     "text": [
      "Integer variable my_integer: 10, Type: <class 'int'>\n",
      "Float variable my_float: 3.14, Type: <class 'float'>\n",
      "String variable my_string: Hello, World!, Type: <class 'str'>\n",
      "List variable my_list: [1, 2, 3, 4, 5], Type: <class 'list'>\n",
      "Tuple variable my_tuple: (10, 20, 30), Type: <class 'tuple'>\n",
      "Dictionary variable my_dict: {'name': 'Alice', 'age': 25}, Type: <class 'dict'>\n"
     ]
    }
   ],
   "source": [
    "# Integer\n",
    "my_integer = 10\n",
    "\n",
    "# Float\n",
    "my_float = 3.14\n",
    "\n",
    "# String\n",
    "my_string = \"Hello, World!\"\n",
    "\n",
    "# List\n",
    "my_list = [1, 2, 3, 4, 5]\n",
    "\n",
    "# Tuple\n",
    "my_tuple = (10, 20, 30)\n",
    "\n",
    "# Dictionary\n",
    "my_dict = {'name': 'Alice', 'age': 25}\n",
    "\n",
    "# Printing variables and their types with explanation\n",
    "\n",
    "# Print integer variable and its type\n",
    "print(f\"Integer variable my_integer: {my_integer}, Type: {type(my_integer)}\")\n",
    "\n",
    "# Print float variable and its type\n",
    "print(f\"Float variable my_float: {my_float}, Type: {type(my_float)}\")\n",
    "\n",
    "# Print string variable and its type\n",
    "print(f\"String variable my_string: {my_string}, Type: {type(my_string)}\")\n",
    "\n",
    "# Print list variable and its type\n",
    "print(f\"List variable my_list: {my_list}, Type: {type(my_list)}\")\n",
    "\n",
    "# Print tuple variable and its type\n",
    "print(f\"Tuple variable my_tuple: {my_tuple}, Type: {type(my_tuple)}\")\n",
    "\n",
    "# Print dictionary variable and its type\n",
    "print(f\"Dictionary variable my_dict: {my_dict}, Type: {type(my_dict)}\")\n"
   ]
  },
  {
   "cell_type": "markdown",
   "id": "3f3bdd77-9a77-4c66-80f5-6e54155bd654",
   "metadata": {},
   "source": [
    "# Q5. Write a Python program that asks the user for their favorite number, then prints whether the number is even or odd. Use the modulo operator (%)."
   ]
  },
  {
   "cell_type": "code",
   "execution_count": 27,
   "id": "9830e00a-ef4e-4d25-859e-db514f60b202",
   "metadata": {},
   "outputs": [
    {
     "name": "stdin",
     "output_type": "stream",
     "text": [
      "Enter your favorite number:  8\n"
     ]
    },
    {
     "name": "stdout",
     "output_type": "stream",
     "text": [
      "8 is an even number.\n"
     ]
    }
   ],
   "source": [
    "# Ask the user for their favorite number\n",
    "favorite_number = int(input(\"Enter your favorite number: \"))\n",
    "\n",
    "# Check if the number is even or odd using modulo operator\n",
    "if favorite_number % 2 == 0:\n",
    "    print(f\"{favorite_number} is an even number.\")\n",
    "else:\n",
    "    print(f\"{favorite_number} is an odd number.\")\n"
   ]
  },
  {
   "cell_type": "markdown",
   "id": "7659da5b-1800-44bc-9982-557d59c61e13",
   "metadata": {},
   "source": [
    "# Q6. Write a Python program to calculate the factorial of a given number using a loop. Include comments to explain each step of the code"
   ]
  },
  {
   "cell_type": "code",
   "execution_count": 30,
   "id": "dd1e06f1-5f90-4dd7-8004-293683b4c21a",
   "metadata": {},
   "outputs": [
    {
     "name": "stdin",
     "output_type": "stream",
     "text": [
      "Enter a number to calculate its factorial:  7\n"
     ]
    },
    {
     "name": "stdout",
     "output_type": "stream",
     "text": [
      "The factorial of 7 is 5040.\n"
     ]
    }
   ],
   "source": [
    "# Function to calculate factorial\n",
    "def factorial(n):\n",
    "    # Initialize the result variable to store the factorial\n",
    "    result = 1\n",
    "    \n",
    "    # Loop from 1 to n (inclusive)\n",
    "    for i in range(1, n + 1):\n",
    "        # Multiply result by current value of i\n",
    "        result *= i\n",
    "    \n",
    "    # Return the calculated factorial\n",
    "    return result\n",
    "\n",
    "# Ask the user to enter a number\n",
    "num = int(input(\"Enter a number to calculate its factorial: \"))\n",
    "\n",
    "# Check if the number is negative\n",
    "if num < 0:\n",
    "    print(\"Factorial is not defined for negative numbers.\")\n",
    "elif num == 0:\n",
    "    print(f\"The factorial of 0 is 1.\")\n",
    "else:\n",
    "    # Call the factorial function and print the result\n",
    "    fact = factorial(num)\n",
    "    print(f\"The factorial of {num} is {fact}.\")\n"
   ]
  },
  {
   "cell_type": "markdown",
   "id": "4e0719ff-17d8-49f4-a38c-626693e643e0",
   "metadata": {},
   "source": [
    "# Q7. Write a Python program that defines a function with proper indentation. The function should take a number as input and print whether it is positive, negative, or zero. Include an example of incorrect indentation in comments and explain why it’s incorrect"
   ]
  },
  {
   "cell_type": "code",
   "execution_count": 36,
   "id": "f801f6cf-88e9-477e-be4f-6c0497af0091",
   "metadata": {},
   "outputs": [
    {
     "name": "stdout",
     "output_type": "stream",
     "text": [
      "5 is positive.\n",
      "-3 is negative.\n",
      "The number is zero.\n"
     ]
    }
   ],
   "source": [
    "# Function to check whether a number is positive, negative, or zero\n",
    "def check_number(num):\n",
    "    if num > 0:\n",
    "        print(f\"{num} is positive.\")\n",
    "    elif num < 0:\n",
    "        print(f\"{num} is negative.\")\n",
    "    else:\n",
    "        print(\"The number is zero.\")\n",
    "\n",
    "# Example usage of the function\n",
    "check_number(5)\n",
    "check_number(-3)\n",
    "check_number(0)\n"
   ]
  },
  {
   "cell_type": "markdown",
   "id": "cf5b940e-1195-44e4-8ce5-e2033e965691",
   "metadata": {},
   "source": [
    "# Q8. Write a Python program that performs and prints the results of various operations (addition, subtraction, multiplication, division, modulus, and exponentiation) on two numbers provided by the user."
   ]
  },
  {
   "cell_type": "code",
   "execution_count": 41,
   "id": "54d31466-61a2-4951-8ff3-9677b266c914",
   "metadata": {},
   "outputs": [
    {
     "name": "stdin",
     "output_type": "stream",
     "text": [
      "Enter the first number:  1\n",
      "Enter the second number:  5\n"
     ]
    },
    {
     "name": "stdout",
     "output_type": "stream",
     "text": [
      "Addition: 1.0 + 5.0 = 6.0\n",
      "Subtraction: 1.0 - 5.0 = -4.0\n",
      "Multiplication: 1.0 * 5.0 = 5.0\n",
      "Division: 1.0 / 5.0 = 0.2\n",
      "Modulus: 1.0 % 5.0 = 1.0\n",
      "Exponentiation: 1.0 ** 5.0 = 1.0\n"
     ]
    }
   ],
   "source": [
    "# Function to perform arithmetic operations on two numbers\n",
    "def perform_operations(num1, num2):\n",
    "    # Addition\n",
    "    addition = num1 + num2\n",
    "    print(f\"Addition: {num1} + {num2} = {addition}\")\n",
    "\n",
    "    # Subtraction\n",
    "    subtraction = num1 - num2\n",
    "    print(f\"Subtraction: {num1} - {num2} = {subtraction}\")\n",
    "\n",
    "    # Multiplication\n",
    "    multiplication = num1 * num2\n",
    "    print(f\"Multiplication: {num1} * {num2} = {multiplication}\")\n",
    "\n",
    "    # Division\n",
    "    division = num1 / num2\n",
    "    print(f\"Division: {num1} / {num2} = {division}\")\n",
    "\n",
    "    # Modulus\n",
    "    modulus = num1 % num2\n",
    "    print(f\"Modulus: {num1} % {num2} = {modulus}\")\n",
    "\n",
    "    # Exponentiation\n",
    "    exponentiation = num1 ** num2\n",
    "    print(f\"Exponentiation: {num1} ** {num2} = {exponentiation}\")\n",
    "\n",
    "# Ask the user to enter two numbers\n",
    "num1 = float(input(\"Enter the first number: \"))\n",
    "num2 = float(input(\"Enter the second number: \"))\n",
    "\n",
    "# Call the function to perform operations\n",
    "perform_operations(num1, num2)\n"
   ]
  },
  {
   "cell_type": "markdown",
   "id": "94e6e0e7-b5bd-4c34-99ac-a4e732b8ee20",
   "metadata": {},
   "source": [
    "# Q9. Write a Python program that evaluates the expression (a+b)2 where a and b are input by the user. Print the result."
   ]
  },
  {
   "cell_type": "code",
   "execution_count": 44,
   "id": "a02a6e19-59a0-40ba-ae58-23f5e8d3ba40",
   "metadata": {},
   "outputs": [
    {
     "name": "stdin",
     "output_type": "stream",
     "text": [
      "Enter the value of 'a':  5\n",
      "Enter the value of 'b':  7\n"
     ]
    },
    {
     "name": "stdout",
     "output_type": "stream",
     "text": [
      "The result of (5.0 + 7.0)^2 is: 144.0\n"
     ]
    }
   ],
   "source": [
    "# Ask the user to enter values for 'a' and 'b'\n",
    "a = float(input(\"Enter the value of 'a': \"))\n",
    "b = float(input(\"Enter the value of 'b': \"))\n",
    "\n",
    "# Calculate the expression (a + b)^2\n",
    "result = (a + b) ** 2\n",
    "\n",
    "# Print the result\n",
    "print(f\"The result of ({a} + {b})^2 is: {result}\")\n"
   ]
  },
  {
   "cell_type": "markdown",
   "id": "c14a8f09-3cba-4961-98aa-7c2a944e95ff",
   "metadata": {},
   "source": [
    "# Q10.Write a program to add one integer and floating type number"
   ]
  },
  {
   "cell_type": "code",
   "execution_count": 47,
   "id": "3e33b839-fa35-48f3-bcb6-8f3347be7ec7",
   "metadata": {},
   "outputs": [
    {
     "name": "stdout",
     "output_type": "stream",
     "text": [
      "Result: 8.5\n"
     ]
    }
   ],
   "source": [
    "# Program to add an integer and a floating-point number\n",
    "\n",
    "# Step 1: Define variables\n",
    "integer_number = 5  # Define an integer variable and assign the value 5\n",
    "float_number = 3.5  # Define a floating-point variable and assign the value 3.5\n",
    "\n",
    "# Step 2: Perform addition\n",
    "result = integer_number + float_number  # Add the integer and floating-point numbers\n",
    "\n",
    "# Step 3: Print the result\n",
    "print(\"Result:\", result)  # Output the result\n"
   ]
  },
  {
   "cell_type": "markdown",
   "id": "790ca20c-5ef5-4eed-a001-54c6d7fdd4bd",
   "metadata": {},
   "source": [
    "# Q11.Write a program to read the length and breadth of a rectangle from a user and display the area of the rectangle."
   ]
  },
  {
   "cell_type": "code",
   "execution_count": 52,
   "id": "8ac3b394-5663-41cc-ba4f-ad282f425f87",
   "metadata": {},
   "outputs": [
    {
     "name": "stdin",
     "output_type": "stream",
     "text": [
      "Enter the length of the rectangle:  5\n",
      "Enter the breadth of the rectangle:  3\n"
     ]
    },
    {
     "name": "stdout",
     "output_type": "stream",
     "text": [
      "The area of the rectangle is: 15.0\n"
     ]
    }
   ],
   "source": [
    "# Program to calculate the area of a rectangle\n",
    "\n",
    "# Step 1: Input length from user\n",
    "length = float(input(\"Enter the length of the rectangle: \"))  # Prompt user for length and convert input to float\n",
    "\n",
    "# Step 2: Input breadth from user\n",
    "breadth = float(input(\"Enter the breadth of the rectangle: \"))  # Prompt user for breadth and convert input to float\n",
    "\n",
    "# Step 3: Calculate area\n",
    "area = length * breadth  # Calculate area by multiplying length and breadth\n",
    "\n",
    "# Step 4: Display the area\n",
    "print(\"The area of the rectangle is:\", area)  # Output the calculated area\n"
   ]
  },
  {
   "cell_type": "markdown",
   "id": "a55bd22c-2336-4be4-bb0b-811323b8cedb",
   "metadata": {},
   "source": [
    "# Q12.Write a program to find the difference between the ASCII code of any lower case letter and its corresponding upper case letter."
   ]
  },
  {
   "cell_type": "code",
   "execution_count": 55,
   "id": "f3072846-92b4-4157-8a97-05929136856b",
   "metadata": {},
   "outputs": [
    {
     "name": "stdin",
     "output_type": "stream",
     "text": [
      "Enter a lowercase letter:  5\n"
     ]
    },
    {
     "name": "stdout",
     "output_type": "stream",
     "text": [
      "The ASCII difference between '5' and '\u0015' is -32\n"
     ]
    }
   ],
   "source": [
    "# Program to find the difference between ASCII codes of lowercase and corresponding uppercase letter\n",
    "\n",
    "# Step 1: Input a lowercase letter from the user\n",
    "lowercase_letter = input(\"Enter a lowercase letter: \")\n",
    "\n",
    "# Step 2: Calculate the corresponding uppercase letter\n",
    "uppercase_letter = chr(ord(lowercase_letter) - 32)\n",
    "\n",
    "# Step 3: Calculate ASCII differences\n",
    "ascii_difference = ord(uppercase_letter) - ord(lowercase_letter)\n",
    "\n",
    "# Step 4: Display the result\n",
    "print(f\"The ASCII difference between '{lowercase_letter}' and '{uppercase_letter}' is {ascii_difference}\")\n"
   ]
  },
  {
   "cell_type": "markdown",
   "id": "fc228e08-a82b-488b-baae-f6c555ff5c23",
   "metadata": {},
   "source": [
    "# Q13.Translate the following algorithm into Python code.Step 1: Initialize variable named Pounds with value 10.Step 2: Multiply Pounds by 0.45 and assign it to a variable Kilogram.Step 3: Display the value of variable Pounds and Variable."
   ]
  },
  {
   "cell_type": "code",
   "execution_count": 60,
   "id": "79b8e547-6177-4fd8-a4e5-a6e3f5a3280f",
   "metadata": {},
   "outputs": [
    {
     "name": "stdout",
     "output_type": "stream",
     "text": [
      "Pounds: 10\n",
      "Kilogram: 4.5\n"
     ]
    }
   ],
   "source": [
    "# Step 1: Initialize variable named Pounds with value 10.\n",
    "Pounds = 10\n",
    "\n",
    "# Step 2: Multiply Pounds by 0.45 and assign it to a variable Kilogram.\n",
    "Kilogram = Pounds * 0.45\n",
    "\n",
    "# Step 3: Display the value of variable Pounds and Variable.\n",
    "print(\"Pounds:\", Pounds)\n",
    "print(\"Kilogram:\", Kilogram)\n"
   ]
  },
  {
   "cell_type": "markdown",
   "id": "d70bee91-c8f8-420e-8bb1-c6953c3367e2",
   "metadata": {},
   "source": [
    "# Q14.Identify the error in the following piece of code. Explain how you will fi x it.num1 = ‘10’num2 = 20.65sum = num1 + num2"
   ]
  },
  {
   "cell_type": "code",
   "execution_count": 67,
   "id": "fc062ced-5ff2-4a2b-9130-7af012ea837f",
   "metadata": {},
   "outputs": [
    {
     "ename": "TypeError",
     "evalue": "can only concatenate str (not \"float\") to str",
     "output_type": "error",
     "traceback": [
      "\u001b[1;31m---------------------------------------------------------------------------\u001b[0m",
      "\u001b[1;31mTypeError\u001b[0m                                 Traceback (most recent call last)",
      "Cell \u001b[1;32mIn[67], line 5\u001b[0m\n\u001b[0;32m      2\u001b[0m num2 \u001b[38;5;241m=\u001b[39m \u001b[38;5;241m20.65\u001b[39m  \u001b[38;5;66;03m# Step 2: Initialize num2 as a float 20.65\u001b[39;00m\n\u001b[0;32m      4\u001b[0m \u001b[38;5;66;03m# Step 3: Attempt to perform sum operation\u001b[39;00m\n\u001b[1;32m----> 5\u001b[0m \u001b[38;5;28msum\u001b[39m \u001b[38;5;241m=\u001b[39m num1 \u001b[38;5;241m+\u001b[39m num2\n",
      "\u001b[1;31mTypeError\u001b[0m: can only concatenate str (not \"float\") to str"
     ]
    }
   ],
   "source": [
    "num1 = '10'  # Step 1: Initialize num1 as a string '10'\n",
    "num2 = 20.65  # Step 2: Initialize num2 as a float 20.65\n",
    "\n",
    "# Step 3: Attempt to perform sum operation\n",
    "sum = num1 + num2  # Error: TypeError: can only concatenate str (not \"float\") to str\n",
    "\n"
   ]
  },
  {
   "cell_type": "code",
   "execution_count": 71,
   "id": "93feb09d-6f23-4f94-b77d-84b82eb70d92",
   "metadata": {},
   "outputs": [
    {
     "name": "stdout",
     "output_type": "stream",
     "text": [
      "Sum: 30.65\n"
     ]
    }
   ],
   "source": [
    "# FIX CODE\n",
    "num1 = '10'  # Initialize num1 as a string '10'\n",
    "num1 = float(num1)  # Convert num1 to float\n",
    "\n",
    "num2 = 20.65  # Initialize num2 as a float 20.65\n",
    "\n",
    "sum = num1 + num2  # Perform addition of num1 (now a float) and num2\n",
    "\n",
    "print(\"Sum:\", sum)  # Output the result\n"
   ]
  },
  {
   "cell_type": "markdown",
   "id": "56731228-a30c-4c01-b86c-6cdcdcefbf25",
   "metadata": {},
   "source": [
    "# END"
   ]
  }
 ],
 "metadata": {
  "kernelspec": {
   "display_name": "Python 3 (ipykernel)",
   "language": "python",
   "name": "python3"
  },
  "language_info": {
   "codemirror_mode": {
    "name": "ipython",
    "version": 3
   },
   "file_extension": ".py",
   "mimetype": "text/x-python",
   "name": "python",
   "nbconvert_exporter": "python",
   "pygments_lexer": "ipython3",
   "version": "3.12.4"
  }
 },
 "nbformat": 4,
 "nbformat_minor": 5
}
