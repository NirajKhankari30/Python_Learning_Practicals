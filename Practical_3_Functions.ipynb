{
 "cells": [
  {
   "cell_type": "markdown",
   "id": "c3748aba-6093-42c8-b91b-45cc68a1d955",
   "metadata": {},
   "source": [
    "# Practical 3 (Functions)\n",
    "## Niraj Khankari ___________ Roll no.: 26\n"
   ]
  },
  {
   "cell_type": "markdown",
   "id": "a4d9edf9-58c5-48a6-9019-f0f00e44e1b0",
   "metadata": {},
   "source": [
    "### Q.1)Write a Python program that calculates the area of a rectangle (length × width) for three different sets of dimensions. Without using functions, calculate and print the areas. Then refactor the program to use a function calculate_area(length, width) and call this function for the three sets of dimensions."
   ]
  },
  {
   "cell_type": "code",
   "execution_count": 7,
   "id": "cab40afe-0a98-4acd-bf03-33373fb915e3",
   "metadata": {},
   "outputs": [
    {
     "name": "stdin",
     "output_type": "stream",
     "text": [
      "Enter a Length: 3\n",
      "Enter a Width: 4\n"
     ]
    },
    {
     "name": "stdout",
     "output_type": "stream",
     "text": [
      "The Area of the Rectangle is 12\n"
     ]
    },
    {
     "name": "stdin",
     "output_type": "stream",
     "text": [
      "Enter a Length: 5\n",
      "Enter a Width: 6\n"
     ]
    },
    {
     "name": "stdout",
     "output_type": "stream",
     "text": [
      "The Area of the Rectangle is 30\n"
     ]
    },
    {
     "name": "stdin",
     "output_type": "stream",
     "text": [
      "Enter a Length: 8\n",
      "Enter a Width: 6\n"
     ]
    },
    {
     "name": "stdout",
     "output_type": "stream",
     "text": [
      "The Area of the Rectangle is 48\n"
     ]
    }
   ],
   "source": [
    "#1st Dimesion\n",
    "length1 = int(input(\"Enter a Length:\"))\n",
    "width1 = int(input(\"Enter a Width:\"))\n",
    "result1 = length1*width1\n",
    "print(f\"The Area of the Rectangle is {result1}\")\n",
    "\n",
    "#2nd Dimension\n",
    "length2 = int(input(\"Enter a Length:\"))\n",
    "width2 = int(input(\"Enter a Width:\"))\n",
    "result2 = length2*width2\n",
    "print(f\"The Area of the Rectangle is {result2}\")\n",
    "\n",
    "#3rd Dimension\n",
    "length3 = int(input(\"Enter a Length:\"))\n",
    "width3 = int(input(\"Enter a Width:\"))\n",
    "result3 = length3*width3\n",
    "print(f\"The Area of the Rectangle is {result3}\")\n"
   ]
  },
  {
   "cell_type": "code",
   "execution_count": 13,
   "id": "686f7a1d-4964-4496-b9a9-f45e4607ea02",
   "metadata": {},
   "outputs": [
    {
     "name": "stdout",
     "output_type": "stream",
     "text": [
      "The area the rectangle is 12\n",
      "The area the rectangle is 30\n",
      "The area the rectangle is 48\n"
     ]
    }
   ],
   "source": [
    "def calculate_area(length,width):\n",
    "    return length*width\n",
    "calculate_area(3,4)\n",
    "print(f\"The area the rectangle is {calculate_area(3,4)}\")\n",
    "calculate_area(5,6)\n",
    "print(f\"The area the rectangle is {calculate_area(5,6)}\")\n",
    "calculate_area(8,6)\n",
    "print(f\"The area the rectangle is {calculate_area(8,6)}\")"
   ]
  },
  {
   "cell_type": "markdown",
   "id": "822a63ac-9cc3-4503-a63d-a6eac16126d1",
   "metadata": {},
   "source": [
    "## Q.2) Define a function greet(name) that takes a string parameter and prints a greeting message. Call this function with three different names."
   ]
  },
  {
   "cell_type": "code",
   "execution_count": 22,
   "id": "fbe9826a-f280-4cf9-b6d4-e098cbca9be7",
   "metadata": {},
   "outputs": [
    {
     "name": "stdout",
     "output_type": "stream",
     "text": [
      "Hello, Ram! Welcome!\n",
      "Hello, Ravan! Welcome!\n",
      "Hello, Vibhishan! Welcome!\n"
     ]
    }
   ],
   "source": [
    "def greet(name):\n",
    "    print(f\"Hello, {name}! Welcome!\")\n",
    "greet(\"Ram\")\n",
    "greet(\"Ravan\")\n",
    "greet(\"Vibhishan\")\n",
    "\n",
    "    \n",
    "    "
   ]
  },
  {
   "cell_type": "markdown",
   "id": "7867a86a-9774-4fc1-8bda-22934f884c60",
   "metadata": {},
   "source": [
    "## Q.3) Write a Python program that demonstrates the concept of local and global variables. Define a global variable and a function that modifies a local variable with the same name. Print the values of both variables inside and outside the function to show the difference."
   ]
  },
  {
   "cell_type": "code",
   "execution_count": 31,
   "id": "fe36ee10-6e30-4709-b400-1e2a06b57906",
   "metadata": {},
   "outputs": [
    {
     "name": "stdout",
     "output_type": "stream",
     "text": [
      "The Inside Function, x=5.1\n",
      "The Outside Function, x=5\n"
     ]
    }
   ],
   "source": [
    "# Global variable\n",
    "x = 5\n",
    "def global_variable():\n",
    "    #Local Variable\n",
    "    x = 5.1\n",
    "    print(f\"The Inside Function, x={x}\")\n",
    "global_variable()\n",
    "print(f\"The Outside Function, x={x}\")\n",
    "    "
   ]
  },
  {
   "cell_type": "markdown",
   "id": "90e7c0cc-f33e-43db-8995-49470c770b3f",
   "metadata": {},
   "source": [
    "## Q.4) Define a function square(number) that takes an integer and returns its square. Write a program that calls this function and prints the result for numbers from 1 to 5."
   ]
  },
  {
   "cell_type": "code",
   "execution_count": 36,
   "id": "cb05bce9-9b01-4243-9f1d-dd04b3f3837f",
   "metadata": {},
   "outputs": [
    {
     "name": "stdout",
     "output_type": "stream",
     "text": [
      "The Square of the given Number is 25\n",
      "The Square of the given Number is 225\n",
      "The Square of the given Number is 625\n",
      "The Square of the given Number is 1225\n",
      "The Square of the given Number is 2025\n"
     ]
    }
   ],
   "source": [
    "def square(number):\n",
    "    return number*number\n",
    "\n",
    "square(5)\n",
    "print(f\"The Square of the given Number is {square(5)}\")\n",
    "square(15)\n",
    "print(f\"The Square of the given Number is {square(15)}\")\n",
    "square(25)\n",
    "print(f\"The Square of the given Number is {square(25)}\")\n",
    "square(35)\n",
    "print(f\"The Square of the given Number is {square(35)}\")\n",
    "square(45)\n",
    "print(f\"The Square of the given Number is {square(45)}\")"
   ]
  },
  {
   "cell_type": "markdown",
   "id": "f1bcd11e-55a0-4666-b27e-5745e8ef6bd7",
   "metadata": {},
   "source": [
    "## Q.5) Define a function factorial(n) that calculates and returns the factorial of a given number n using a loop. Write a program that calls this function and prints the factorial of 5"
   ]
  },
  {
   "cell_type": "code",
   "execution_count": 48,
   "id": "be26cf9a-c4e5-40d0-917e-639ce9e967d9",
   "metadata": {},
   "outputs": [
    {
     "name": "stdout",
     "output_type": "stream",
     "text": [
      "The factorial of 5 is: 1\n",
      "The factorial of 5 is: 2\n",
      "The factorial of 5 is: 6\n",
      "The factorial of 5 is: 24\n",
      "The factorial of 5 is: 120\n",
      "The factorial of 5 is: 720\n"
     ]
    }
   ],
   "source": [
    "def factorial(n):\n",
    "    result = 1\n",
    "    for i in range(1, n + 1):\n",
    "        result *= i\n",
    "    return result\n",
    "print(f\"The factorial of 5 is: {factorial(1)}\")\n",
    "print(f\"The factorial of 5 is: {factorial(2)}\")\n",
    "print(f\"The factorial of 5 is: {factorial(3)}\")\n",
    "print(f\"The factorial of 5 is: {factorial(4)}\")\n",
    "print(f\"The factorial of 5 is: {factorial(5)}\")\n",
    "print(f\"The factorial of 5 is: {factorial(6)}\")\n",
    "\n",
    "    "
   ]
  },
  {
   "cell_type": "markdown",
   "id": "e6c3dc09-01b7-4681-bc76-d6c5c4d981a0",
   "metadata": {},
   "source": [
    "## Q.6) Write a Python program that uses a lambda function to sort a list of tuples based on the second element of each tuple. Example list: [(1, 'one'), (2, 'two'), (3, 'three')]."
   ]
  },
  {
   "cell_type": "code",
   "execution_count": 51,
   "id": "945c54b7-2312-4fb7-b273-3ca31a2aed52",
   "metadata": {},
   "outputs": [
    {
     "name": "stdout",
     "output_type": "stream",
     "text": [
      "[(1, 'one'), (3, 'three'), (2, 'two')]\n"
     ]
    }
   ],
   "source": [
    "# Example list of tuples\n",
    "data = [(1, 'one'), (2, 'two'), (3, 'three')]\n",
    "\n",
    "# Sorting the list using a lambda function based on the second element\n",
    "sorted_data = sorted(data, key=lambda x: x[1])\n",
    "\n",
    "# Printing the sorted list\n",
    "print(sorted_data)\n"
   ]
  },
  {
   "cell_type": "markdown",
   "id": "37bc6418-d8f7-4cbb-967a-3b209490147f",
   "metadata": {},
   "source": [
    "## Q.7)Define a function add(a, b) that adds two numbers and returns the result. Include a documentation string (docstring) that describes the function, its parameters, and its return value. Print the documentation string using print(add.__doc__).\n"
   ]
  },
  {
   "cell_type": "code",
   "execution_count": 60,
   "id": "9bed9197-8903-4f14-a9db-aa5d29c1eba4",
   "metadata": {},
   "outputs": [
    {
     "name": "stdout",
     "output_type": "stream",
     "text": [
      "\n",
      "    Add two numbers and return the result.\n",
      "\n",
      "    Parameters:\n",
      "    a (int or float): The first number to add.\n",
      "    b (int or float): The second number to add.\n",
      "\n",
      "    Returns:\n",
      "    int or float: The sum of a and b.\n",
      "    \n",
      "The sum is: 8\n"
     ]
    }
   ],
   "source": [
    "def add(a, b):\n",
    "    \"\"\"\n",
    "    Add two numbers and return the result.\n",
    "\n",
    "    Parameters:\n",
    "    a (int or float): The first number to add.\n",
    "    b (int or float): The second number to add.\n",
    "\n",
    "    Returns:\n",
    "    int or float: The sum of a and b.\n",
    "    \"\"\"\n",
    "    return a + b\n",
    "\n",
    "# Print the documentation string\n",
    "print(add.__doc__)\n",
    "\n",
    "# Example usage\n",
    "result = add(5, 3)\n",
    "print(f\"The sum is: {result}\")\n"
   ]
  },
  {
   "cell_type": "markdown",
   "id": "36e17c12-48f9-4da5-b653-d175224363da",
   "metadata": {},
   "source": [
    "## Q.8) Write a Python program that imports the math module and uses the sqrt function to calculate the square root of numbers 1 to 5. Print the results."
   ]
  },
  {
   "cell_type": "code",
   "execution_count": 75,
   "id": "765db7d3-75b9-4234-b70e-d845c300ad9f",
   "metadata": {},
   "outputs": [
    {
     "name": "stdout",
     "output_type": "stream",
     "text": [
      "The Square Root of given number is 1.0\n",
      "The Square Root of given number is 1.4142135623730951\n",
      "The Square Root of given number is 1.7320508075688772\n",
      "The Square Root of given number is 2.0\n",
      "The Square Root of given number is 2.23606797749979\n"
     ]
    }
   ],
   "source": [
    "import math\n",
    "def sqrt(number):\n",
    "    return math.sqrt(number)\n",
    "sqrt(1)\n",
    "print(f\"The Square Root of given number is {sqrt(1)}\")\n",
    "sqrt(2)\n",
    "print(f\"The Square Root of given number is {sqrt(2)}\")\n",
    "sqrt(3)\n",
    "print(f\"The Square Root of given number is {sqrt(3)}\")\n",
    "sqrt(4)\n",
    "print(f\"The Square Root of given number is {sqrt(4)}\")\n",
    "sqrt(5)\n",
    "print(f\"The Square Root of given number is {sqrt(5)}\")"
   ]
  },
  {
   "cell_type": "markdown",
   "id": "9b5d78f8-249a-43a1-ab37-16a05ac8a0ad",
   "metadata": {},
   "source": [
    "## Q.9) Create a package named geometry with a module shapes.py containing functions to calculate the area of a rectangle and a circle. Write a program that imports these functions from the package and calculates the areas for given dimensions.\n"
   ]
  },
  {
   "cell_type": "code",
   "execution_count": 85,
   "id": "7cbf5222-6f75-4d1b-ad26-f5d538f7bd28",
   "metadata": {},
   "outputs": [
    {
     "name": "stdout",
     "output_type": "stream",
     "text": [
      "The area of the rectangle is: 50\n",
      "The area of the circle is: 28.27\n"
     ]
    }
   ],
   "source": [
    "# Step 1: Create the package and module\n",
    "import os\n",
    "\n",
    "# Create the geometry directory\n",
    "os.makedirs('geometry', exist_ok=True)\n",
    "\n",
    "# Create shapes.py file in the geometry directory\n",
    "shapes_code = \"\"\"\n",
    "def area_rectangle(length, width):\n",
    "    \\\"\\\"\\\"Calculate the area of a rectangle.\\\"\\\"\\\"\n",
    "    return length * width\n",
    "\n",
    "def area_circle(radius):\n",
    "    \\\"\\\"\\\"Calculate the area of a circle.\\\"\\\"\\\"\n",
    "    import math\n",
    "    return math.pi * (radius ** 2)\n",
    "\"\"\"\n",
    "\n",
    "with open('geometry/shapes.py', 'w') as file:\n",
    "    file.write(shapes_code)\n",
    "\n",
    "# Create __init__.py file\n",
    "with open('geometry/__init__.py', 'w') as file:\n",
    "    file.write(\"from .shapes import area_rectangle, area_circle\\n\")\n",
    "\n",
    "# Step 2: Import the functions from the package\n",
    "from geometry import area_rectangle, area_circle\n",
    "\n",
    "# Step 3: Example dimensions\n",
    "length = 5\n",
    "width = 10\n",
    "radius = 3\n",
    "\n",
    "# Calculate areas\n",
    "rectangle_area = area_rectangle(length, width)\n",
    "circle_area = area_circle(radius)\n",
    "\n",
    "# Print the results\n",
    "print(f\"The area of the rectangle is: {rectangle_area}\")\n",
    "print(f\"The area of the circle is: {circle_area:.2f}\")\n"
   ]
  },
  {
   "cell_type": "markdown",
   "id": "9334682a-66f9-4518-b0ce-b4de80ef99e0",
   "metadata": {},
   "source": [
    "## Q.10) Write a Python program that uses the datetime module to print the current date and time. Format the output to display in the format YYYY-MM-DD HH:MM:SS"
   ]
  },
  {
   "cell_type": "code",
   "execution_count": 87,
   "id": "048eb7d4-91ef-4f14-9231-1ed59529d497",
   "metadata": {},
   "outputs": [
    {
     "name": "stdout",
     "output_type": "stream",
     "text": [
      "2024-09-20 14:34:21\n"
     ]
    }
   ],
   "source": [
    "import datetime\n",
    "\n",
    "# Get the current date and time\n",
    "now = datetime.datetime.now()\n",
    "\n",
    "# Format the output\n",
    "formatted_now = now.strftime(\"%Y-%m-%d %H:%M:%S\")\n",
    "\n",
    "# Print the formatted date and time\n",
    "print(formatted_now)\n"
   ]
  }
 ],
 "metadata": {
  "kernelspec": {
   "display_name": "Python 3 (ipykernel)",
   "language": "python",
   "name": "python3"
  },
  "language_info": {
   "codemirror_mode": {
    "name": "ipython",
    "version": 3
   },
   "file_extension": ".py",
   "mimetype": "text/x-python",
   "name": "python",
   "nbconvert_exporter": "python",
   "pygments_lexer": "ipython3",
   "version": "3.12.4"
  }
 },
 "nbformat": 4,
 "nbformat_minor": 5
}
